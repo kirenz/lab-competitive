{
 "cells": [
  {
   "cell_type": "markdown",
   "id": "ae5bcee9-6588-4d29-bbb9-6fb351ef6630",
   "metadata": {},
   "source": [
    "# SQL analysis part 2\n",
    "\n",
    "Download this Juypter Notebook and solve the tasks by inserting the SQL queries (it is not possible to solve the tasks in Colab). \n",
    "\n",
    "Example query (we include `df_example` at the end of the code cell to print the result):\n",
    "\n",
    "```Python\n",
    "df_example = pd.read_sql(\"\"\"\n",
    "    SELECT *\n",
    "    FROM ecommerce_data;\n",
    "\"\"\", engine)\n",
    "\n",
    "df_example\n",
    "```"
   ]
  },
  {
   "cell_type": "markdown",
   "id": "0c797991-8486-4d79-8c1d-5dc0c1289c2f",
   "metadata": {},
   "source": [
    "## Setup"
   ]
  },
  {
   "cell_type": "code",
   "execution_count": null,
   "id": "19cd4e96",
   "metadata": {},
   "outputs": [],
   "source": [
    "import os\n",
    "import pandas as pd\n",
    "from sqlalchemy import create_engine\n",
    "from dotenv import load_dotenv"
   ]
  },
  {
   "cell_type": "markdown",
   "id": "78264cec",
   "metadata": {},
   "source": [
    "## Data\n",
    "\n",
    "Connect to your MySQL-database \"db_ecommerce\" (make sure to prepare your `.env` file)"
   ]
  },
  {
   "cell_type": "code",
   "execution_count": null,
   "id": "d328907e",
   "metadata": {},
   "outputs": [],
   "source": [
    "load_dotenv()   # take environment variables from .env\n",
    "\n",
    "engine = create_engine(\"mysql+pymysql://\" + os.environ['DB_URL'] + \"/db_ecommerce\", pool_pre_ping=True, pool_recycle=300)"
   ]
  },
  {
   "cell_type": "code",
   "execution_count": null,
   "id": "96099752",
   "metadata": {},
   "outputs": [],
   "source": [
    "# Use pandas to_sql function to create the table in the database\n",
    "df = pd.read_csv('https://raw.githubusercontent.com/kirenz/lab-competitive/main/code/ecommerce.csv')\n",
    "df.to_sql('ecommerce', engine, if_exists='replace')"
   ]
  },
  {
   "cell_type": "markdown",
   "id": "9904353a",
   "metadata": {},
   "source": [
    "# Task 1 \n",
    "\n",
    "Get the count of E-shops that have an average rating more than 6.5. Use the alias `eshop_count`.\n"
   ]
  },
  {
   "cell_type": "code",
   "execution_count": null,
   "id": "632da701",
   "metadata": {},
   "outputs": [],
   "source": [
    "\n",
    "df1 = pd.read_sql(\"\"\"\n",
    "\n",
    "\"\"\", engine)\n",
    "\n",
    "df1\n",
    "\n"
   ]
  },
  {
   "cell_type": "markdown",
   "id": "718f78c8",
   "metadata": {},
   "source": [
    "# Task 2\n",
    "\n",
    "Get the sum of annual revenue grouped by eshop_name. Use the alias `total_revenue`."
   ]
  },
  {
   "cell_type": "code",
   "execution_count": null,
   "id": "685f1af6",
   "metadata": {},
   "outputs": [],
   "source": [
    "df2 = pd.read_sql(\"\"\"\n",
    "\n",
    "\"\"\", engine)\n",
    "\n",
    "df2\n"
   ]
  },
  {
   "cell_type": "markdown",
   "id": "097e0420",
   "metadata": {},
   "source": [
    "# Task 3 \n",
    "\n",
    "Get the maximum and minimum number of social_media_followers by eshop_name. Use the aliases `max_followers` and `min_followers`"
   ]
  },
  {
   "cell_type": "code",
   "execution_count": null,
   "id": "77a9abe0",
   "metadata": {},
   "outputs": [],
   "source": [
    "df3 = pd.read_sql(\"\"\"\n",
    "\n",
    "\"\"\", engine)\n",
    "\n",
    "df3\n"
   ]
  },
  {
   "cell_type": "markdown",
   "id": "e369b004",
   "metadata": {},
   "source": [
    "# Task 4 \n",
    "\n",
    "Get the average annual revenue by eshop_name, only include groups having average annual revenue more than 30000. Use the alias `average_revenue`. Show average revenue with all digits (e.g. 30000 instead of 30).\n"
   ]
  },
  {
   "cell_type": "code",
   "execution_count": null,
   "id": "138c8e02",
   "metadata": {},
   "outputs": [],
   "source": [
    "\n",
    "df4 = pd.read_sql(\"\"\"\n",
    "\n",
    "\"\"\", engine)\n",
    "\n",
    "df4\n",
    "\n"
   ]
  },
  {
   "cell_type": "markdown",
   "id": "ee10cad1",
   "metadata": {},
   "source": [
    "# Task 5 \n",
    "\n",
    "Get the total annual revenue and social media followers by eshop_name, including rollup. Use the aliases `total_revenue` and `total_followers`\n"
   ]
  },
  {
   "cell_type": "code",
   "execution_count": null,
   "id": "b6b8a209",
   "metadata": {},
   "outputs": [],
   "source": [
    "\n",
    "df5 = pd.read_sql(\"\"\"\n",
    "\n",
    "\"\"\", engine)\n",
    "\n",
    "df5\n"
   ]
  },
  {
   "cell_type": "markdown",
   "id": "5a541d59",
   "metadata": {},
   "source": [
    "## Close the connection"
   ]
  },
  {
   "cell_type": "code",
   "execution_count": null,
   "id": "a6910591",
   "metadata": {},
   "outputs": [],
   "source": [
    "# close connection\n",
    "engine.dispose()"
   ]
  }
 ],
 "metadata": {
  "kernelspec": {
   "display_name": "Python 3 (ipykernel)",
   "language": "python",
   "name": "python3"
  },
  "language_info": {
   "codemirror_mode": {
    "name": "ipython",
    "version": 3
   },
   "file_extension": ".py",
   "mimetype": "text/x-python",
   "name": "python",
   "nbconvert_exporter": "python",
   "pygments_lexer": "ipython3",
   "version": "3.11.4"
  }
 },
 "nbformat": 4,
 "nbformat_minor": 5
}
