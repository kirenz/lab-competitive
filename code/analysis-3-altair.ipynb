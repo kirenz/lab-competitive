{
 "cells": [
  {
   "cell_type": "markdown",
   "id": "ae5bcee9-6588-4d29-bbb9-6fb351ef6630",
   "metadata": {},
   "source": [
    "# Altair analysis part 3\n"
   ]
  },
  {
   "cell_type": "markdown",
   "id": "0c797991-8486-4d79-8c1d-5dc0c1289c2f",
   "metadata": {},
   "source": [
    "## Setup"
   ]
  },
  {
   "cell_type": "code",
   "execution_count": null,
   "id": "19cd4e96",
   "metadata": {},
   "outputs": [],
   "source": [
    "import pandas as pd\n",
    "import altair as alt\n",
    "alt.renderers.enable('mimetype')\n"
   ]
  },
  {
   "cell_type": "markdown",
   "id": "78264cec",
   "metadata": {},
   "source": [
    "## Data"
   ]
  },
  {
   "cell_type": "markdown",
   "id": "43588611",
   "metadata": {},
   "source": [
    "### Import data"
   ]
  },
  {
   "cell_type": "code",
   "execution_count": null,
   "id": "96099752",
   "metadata": {},
   "outputs": [],
   "source": [
    "df = pd.read_csv('https://raw.githubusercontent.com/kirenz/lab-competitive/main/code/ecommerce.csv')"
   ]
  },
  {
   "cell_type": "markdown",
   "id": "5b44e562",
   "metadata": {},
   "source": [
    "### Data structure"
   ]
  },
  {
   "cell_type": "code",
   "execution_count": null,
   "id": "1cac7ae7",
   "metadata": {},
   "outputs": [],
   "source": [
    "df.head()"
   ]
  },
  {
   "cell_type": "code",
   "execution_count": null,
   "id": "117995ba",
   "metadata": {},
   "outputs": [],
   "source": [
    "df.info()"
   ]
  },
  {
   "cell_type": "markdown",
   "id": "68bd06e8",
   "metadata": {},
   "source": [
    "### Data corrections"
   ]
  },
  {
   "cell_type": "code",
   "execution_count": null,
   "id": "4d36c33f",
   "metadata": {},
   "outputs": [],
   "source": [
    "df['date'] = pd.to_datetime(df['date'])\n",
    "df['eshop_name'] = df['eshop_name'].astype('category')"
   ]
  },
  {
   "cell_type": "markdown",
   "id": "2e5a65b2",
   "metadata": {},
   "source": [
    "## Task 1\n",
    "\n",
    "Average Revenue by E-Shop\n",
    "\n",
    "- Show the average revenue for all shops\n",
    "- Use the name `average_revenue`"
   ]
  },
  {
   "cell_type": "code",
   "execution_count": null,
   "id": "e5ab3922",
   "metadata": {},
   "outputs": [],
   "source": [
    "# Simple chart\n",
    "chart = alt.Chart(df).mark_bar().encode(\n",
    "    x=alt.X('eshop_name'),\n",
    "    y=alt.Y('average(annual_revenue)')\n",
    ")\n",
    "\n",
    "chart"
   ]
  },
  {
   "cell_type": "code",
   "execution_count": null,
   "id": "279d9cdb",
   "metadata": {},
   "outputs": [],
   "source": [
    "chart = alt.Chart(df).mark_bar().encode(\n",
    "    x=alt.X('eshop_name').axis(title='E-Shop', \n",
    "                               titleAnchor=\"start\",\n",
    "                               labelAngle=0,\n",
    "                               grid=False),\n",
    "    y=alt.Y('average(annual_revenue)').axis(title='Average Annnual Revenue', \n",
    "                               titleAnchor=\"end\",\n",
    "                               grid=False),\n",
    "  #  tooltip=['eshop_name', 'average(annual_revenue)']\n",
    "    tooltip=alt.Tooltip(\"average(annual_revenue)\", format=\",.2f\")\n",
    ").properties(\n",
    "    title='Average Annual Revenue by E-Shop',\n",
    "    width= 250,\n",
    "    height=200\n",
    ").configure_title( \n",
    "    fontSize=16,\n",
    "    font='Arial',\n",
    "    anchor='start'\n",
    ").configure_view(\n",
    "    strokeWidth=0\n",
    ")\n",
    "\n",
    "chart"
   ]
  },
  {
   "cell_type": "markdown",
   "id": "ec13d170",
   "metadata": {},
   "source": [
    "## Task 2\n",
    "\n",
    "Two E-Shops with the Highest Average Rating\n",
    "\n",
    "- Show the two E-Shops with the highest average rating\n",
    "- Use the name `average_rating`"
   ]
  },
  {
   "cell_type": "code",
   "execution_count": null,
   "id": "7fbd8bac",
   "metadata": {},
   "outputs": [],
   "source": [
    "df_best_rating = df.groupby('eshop_name')['average_rating'].mean().reset_index().sort_values('average_rating', ascending=False).head(2)\n",
    "\n",
    "chart = alt.Chart(df_best_rating).mark_bar().encode(\n",
    "    x=alt.X('eshop_name').axis(title='E-Shop', \n",
    "                               titleAnchor=\"start\",\n",
    "                               labelAngle=0,\n",
    "                               grid=False),\n",
    "    y=alt.Y('average_rating').axis(title='Average Rating', \n",
    "                               titleAnchor=\"end\",\n",
    "                               grid=False),\n",
    "  #  tooltip=['eshop_name', 'average(annual_revenue)']\n",
    "    tooltip=alt.Tooltip(\"average_rating\", format=\",.2f\")\n",
    ").properties(\n",
    "    title='Shops with the Highest Average Ratings',\n",
    "    width= 250,\n",
    "    height=200\n",
    ").configure_title( \n",
    "    fontSize=16,\n",
    "    font='Arial',\n",
    "    anchor='start'\n",
    ").configure_view(\n",
    "    strokeWidth=0\n",
    ")\n",
    "\n",
    "chart"
   ]
  },
  {
   "cell_type": "markdown",
   "id": "748086ff",
   "metadata": {},
   "source": [
    "## Task 3 \n",
    "\n",
    "E-Shop Performance Over Time \n",
    "\n",
    "- Show the annual revenue per E-Shop by year\n",
    "- Use the names `year` and `total_revenue`"
   ]
  },
  {
   "cell_type": "code",
   "execution_count": null,
   "id": "6f91736e",
   "metadata": {},
   "outputs": [],
   "source": [
    "chart = alt.Chart(df).mark_bar().encode(\n",
    "    x=alt.X('year(date):O').axis(title='Year', \n",
    "                               titleAnchor=\"start\",\n",
    "                               labelAngle=0,\n",
    "                               grid=False),\n",
    "    y=alt.Y('sum(annual_revenue):Q').axis(title='Total Revenue', \n",
    "                               titleAnchor=\"end\",\n",
    "                               grid=False),\n",
    "    color=alt.Color('eshop_name:N', title=None),\n",
    ").properties(\n",
    "    title='Total Annual Revenue by E-shop and Year',\n",
    "    width= 250,\n",
    "    height=200\n",
    ").configure_title( \n",
    "    fontSize=16,\n",
    "    font='Arial',\n",
    "    anchor='start'\n",
    ").configure_view(\n",
    "    strokeWidth=0\n",
    ")\n",
    "\n",
    "chart\n"
   ]
  },
  {
   "cell_type": "markdown",
   "id": "a0d5e7c7",
   "metadata": {},
   "source": [
    "## Task 4\n",
    "\n",
    "Maximum Social Media Followers\n",
    "\n",
    "- Show the maximum amount of social media followers for every E-shop in a descending order.\n",
    "- Use the name `max_followers`"
   ]
  },
  {
   "cell_type": "code",
   "execution_count": 51,
   "id": "a9aa2e59",
   "metadata": {},
   "outputs": [
    {
     "data": {
      "application/vnd.vegalite.v5+json": {
       "$schema": "https://vega.github.io/schema/vega-lite/v5.8.0.json",
       "config": {
        "title": {
         "anchor": "start",
         "font": "Arial",
         "fontSize": 16
        },
        "view": {
         "continuousHeight": 300,
         "continuousWidth": 300,
         "strokeWidth": 0
        }
       },
       "data": {
        "name": "data-9b0f5a8f1487ed9018fb058c0cadd213"
       },
       "datasets": {
        "data-9b0f5a8f1487ed9018fb058c0cadd213": [
         {
          "annual_revenue": 13.35,
          "average_rating": 4.17,
          "average_response_time": 2.35,
          "date": "2020-01-31T00:00:00",
          "eshop_name": "E-ShopA",
          "month": 1,
          "social_media_followers": 173.76,
          "time_on_site": 1.09
         },
         {
          "annual_revenue": 10.74,
          "average_rating": 4.79,
          "average_response_time": 2.58,
          "date": "2020-02-29T00:00:00",
          "eshop_name": "E-ShopA",
          "month": 2,
          "social_media_followers": 52.69,
          "time_on_site": 0.56
         },
         {
          "annual_revenue": 11.91,
          "average_rating": 2.92,
          "average_response_time": 1.54,
          "date": "2020-03-31T00:00:00",
          "eshop_name": "E-ShopA",
          "month": 3,
          "social_media_followers": 141.79,
          "time_on_site": 0.57
         },
         {
          "annual_revenue": 16.38,
          "average_rating": 3.68,
          "average_response_time": 1.92,
          "date": "2020-04-30T00:00:00",
          "eshop_name": "E-ShopA",
          "month": 4,
          "social_media_followers": 190.57,
          "time_on_site": 2.44
         },
         {
          "annual_revenue": 6.52,
          "average_rating": 2.67,
          "average_response_time": 1.49,
          "date": "2020-05-31T00:00:00",
          "eshop_name": "E-ShopA",
          "month": 5,
          "social_media_followers": 129.49,
          "time_on_site": 2.07
         },
         {
          "annual_revenue": 15.8,
          "average_rating": 4.9,
          "average_response_time": 2.51,
          "date": "2020-06-30T00:00:00",
          "eshop_name": "E-ShopA",
          "month": 6,
          "social_media_followers": 209.08,
          "time_on_site": 3.79
         },
         {
          "annual_revenue": 20.97,
          "average_rating": 4.54,
          "average_response_time": 2.2,
          "date": "2020-07-31T00:00:00",
          "eshop_name": "E-ShopA",
          "month": 7,
          "social_media_followers": 313.68,
          "time_on_site": 2.29
         },
         {
          "annual_revenue": 9.4,
          "average_rating": 2.02,
          "average_response_time": 0.93,
          "date": "2020-08-31T00:00:00",
          "eshop_name": "E-ShopA",
          "month": 8,
          "social_media_followers": 139.71,
          "time_on_site": 1.67
         },
         {
          "annual_revenue": 10.09,
          "average_rating": 1.99,
          "average_response_time": 0.85,
          "date": "2020-09-30T00:00:00",
          "eshop_name": "E-ShopA",
          "month": 9,
          "social_media_followers": 167.66,
          "time_on_site": 1.67
         },
         {
          "annual_revenue": 25.98,
          "average_rating": 5.41,
          "average_response_time": 2.48,
          "date": "2020-10-31T00:00:00",
          "eshop_name": "E-ShopA",
          "month": 10,
          "social_media_followers": 487.31,
          "time_on_site": 5.17
         },
         {
          "annual_revenue": 18.07,
          "average_rating": 2.81,
          "average_response_time": 1.28,
          "date": "2020-11-30T00:00:00",
          "eshop_name": "E-ShopA",
          "month": 11,
          "social_media_followers": 328.19,
          "time_on_site": 3.33
         },
         {
          "annual_revenue": 36.81,
          "average_rating": 5.58,
          "average_response_time": 2.75,
          "date": "2020-12-31T00:00:00",
          "eshop_name": "E-ShopA",
          "month": 12,
          "social_media_followers": 548.23,
          "time_on_site": 5.99
         },
         {
          "annual_revenue": 33.28,
          "average_rating": 5.18,
          "average_response_time": 2.32,
          "date": "2021-01-31T00:00:00",
          "eshop_name": "E-ShopA",
          "month": 1,
          "social_media_followers": 497.46,
          "time_on_site": 6.63
         },
         {
          "annual_revenue": 14.35,
          "average_rating": 1.99,
          "average_response_time": 0.88,
          "date": "2021-02-28T00:00:00",
          "eshop_name": "E-ShopA",
          "month": 2,
          "social_media_followers": 225.24,
          "time_on_site": 2.24
         },
         {
          "annual_revenue": 32.38,
          "average_rating": 4.55,
          "average_response_time": 1.83,
          "date": "2021-03-31T00:00:00",
          "eshop_name": "E-ShopA",
          "month": 3,
          "social_media_followers": 556.54,
          "time_on_site": 5.78
         },
         {
          "annual_revenue": 34.06,
          "average_rating": 5.45,
          "average_response_time": 2.01,
          "date": "2021-04-30T00:00:00",
          "eshop_name": "E-ShopA",
          "month": 4,
          "social_media_followers": 767.84,
          "time_on_site": 7.61
         },
         {
          "annual_revenue": 37.03,
          "average_rating": 5.05,
          "average_response_time": 1.82,
          "date": "2021-05-31T00:00:00",
          "eshop_name": "E-ShopA",
          "month": 5,
          "social_media_followers": 697.06,
          "time_on_site": 4.61
         },
         {
          "annual_revenue": 22.18,
          "average_rating": 3.37,
          "average_response_time": 1.2,
          "date": "2021-06-30T00:00:00",
          "eshop_name": "E-ShopA",
          "month": 6,
          "social_media_followers": 463.57,
          "time_on_site": 4.22
         },
         {
          "annual_revenue": 36.24,
          "average_rating": 4.45,
          "average_response_time": 1.85,
          "date": "2021-07-31T00:00:00",
          "eshop_name": "E-ShopA",
          "month": 7,
          "social_media_followers": 694.09,
          "time_on_site": 5.63
         },
         {
          "annual_revenue": 20.09,
          "average_rating": 2.57,
          "average_response_time": 0.88,
          "date": "2021-08-31T00:00:00",
          "eshop_name": "E-ShopA",
          "month": 8,
          "social_media_followers": 336.78,
          "time_on_site": 3.34
         },
         {
          "annual_revenue": 28.98,
          "average_rating": 3.62,
          "average_response_time": 1.36,
          "date": "2021-09-30T00:00:00",
          "eshop_name": "E-ShopA",
          "month": 9,
          "social_media_followers": 522.46,
          "time_on_site": 5.27
         },
         {
          "annual_revenue": 41.89,
          "average_rating": 5.36,
          "average_response_time": 1.72,
          "date": "2021-10-31T00:00:00",
          "eshop_name": "E-ShopA",
          "month": 10,
          "social_media_followers": 778.12,
          "time_on_site": 10.34
         },
         {
          "annual_revenue": 57.76,
          "average_rating": 5.89,
          "average_response_time": 2.18,
          "date": "2021-11-30T00:00:00",
          "eshop_name": "E-ShopA",
          "month": 11,
          "social_media_followers": 961.73,
          "time_on_site": 8.62
         },
         {
          "annual_revenue": 18.83,
          "average_rating": 2.11,
          "average_response_time": 0.73,
          "date": "2021-12-31T00:00:00",
          "eshop_name": "E-ShopA",
          "month": 12,
          "social_media_followers": 327.24,
          "time_on_site": 4.14
         },
         {
          "annual_revenue": 53.2,
          "average_rating": 5.97,
          "average_response_time": 1.91,
          "date": "2022-01-31T00:00:00",
          "eshop_name": "E-ShopA",
          "month": 1,
          "social_media_followers": 1102.33,
          "time_on_site": 8.08
         },
         {
          "annual_revenue": 45.74,
          "average_rating": 5.02,
          "average_response_time": 1.56,
          "date": "2022-02-28T00:00:00",
          "eshop_name": "E-ShopA",
          "month": 2,
          "social_media_followers": 892.1,
          "time_on_site": 8.64
         },
         {
          "annual_revenue": 48.44,
          "average_rating": 5.02,
          "average_response_time": 1.4,
          "date": "2022-03-31T00:00:00",
          "eshop_name": "E-ShopA",
          "month": 3,
          "social_media_followers": 815.05,
          "time_on_site": 9.21
         },
         {
          "annual_revenue": 48.98,
          "average_rating": 4.88,
          "average_response_time": 1.49,
          "date": "2022-04-30T00:00:00",
          "eshop_name": "E-ShopA",
          "month": 4,
          "social_media_followers": 868.04,
          "time_on_site": 9.96
         },
         {
          "annual_revenue": 45.62,
          "average_rating": 4.5,
          "average_response_time": 1.22,
          "date": "2022-05-31T00:00:00",
          "eshop_name": "E-ShopA",
          "month": 5,
          "social_media_followers": 881.61,
          "time_on_site": 9.4
         },
         {
          "annual_revenue": 66.27,
          "average_rating": 6.65,
          "average_response_time": 1.56,
          "date": "2022-06-30T00:00:00",
          "eshop_name": "E-ShopA",
          "month": 6,
          "social_media_followers": 1323.58,
          "time_on_site": 13.79
         },
         {
          "annual_revenue": 63.04,
          "average_rating": 5.37,
          "average_response_time": 1.26,
          "date": "2022-07-31T00:00:00",
          "eshop_name": "E-ShopA",
          "month": 7,
          "social_media_followers": 1207.44,
          "time_on_site": 10.41
         },
         {
          "annual_revenue": 31.29,
          "average_rating": 3.16,
          "average_response_time": 0.8,
          "date": "2022-08-31T00:00:00",
          "eshop_name": "E-ShopA",
          "month": 8,
          "social_media_followers": 738.19,
          "time_on_site": 6.02
         },
         {
          "annual_revenue": 66.11,
          "average_rating": 6.34,
          "average_response_time": 1.83,
          "date": "2022-09-30T00:00:00",
          "eshop_name": "E-ShopA",
          "month": 9,
          "social_media_followers": 1385.38,
          "time_on_site": 14.81
         },
         {
          "annual_revenue": 27.25,
          "average_rating": 2.66,
          "average_response_time": 0.65,
          "date": "2022-10-31T00:00:00",
          "eshop_name": "E-ShopA",
          "month": 10,
          "social_media_followers": 541.14,
          "time_on_site": 5.59
         },
         {
          "annual_revenue": 61.7,
          "average_rating": 5.32,
          "average_response_time": 1.24,
          "date": "2022-11-30T00:00:00",
          "eshop_name": "E-ShopA",
          "month": 11,
          "social_media_followers": 1055.7,
          "time_on_site": 10.31
         },
         {
          "annual_revenue": 74.67,
          "average_rating": 6.25,
          "average_response_time": 1.44,
          "date": "2022-12-31T00:00:00",
          "eshop_name": "E-ShopA",
          "month": 12,
          "social_media_followers": 1417.39,
          "time_on_site": 12.41
         },
         {
          "annual_revenue": 7.29,
          "average_rating": 2.28,
          "average_response_time": 1.28,
          "date": "2020-01-31T00:00:00",
          "eshop_name": "E-ShopB",
          "month": 1,
          "social_media_followers": 94.92,
          "time_on_site": 0.59
         },
         {
          "annual_revenue": 10.38,
          "average_rating": 4.63,
          "average_response_time": 2.5,
          "date": "2020-02-29T00:00:00",
          "eshop_name": "E-ShopB",
          "month": 2,
          "social_media_followers": 50.92,
          "time_on_site": 0.54
         },
         {
          "annual_revenue": 9.49,
          "average_rating": 2.33,
          "average_response_time": 1.23,
          "date": "2020-03-31T00:00:00",
          "eshop_name": "E-ShopB",
          "month": 3,
          "social_media_followers": 113,
          "time_on_site": 0.45
         },
         {
          "annual_revenue": 10.21,
          "average_rating": 2.3,
          "average_response_time": 1.19,
          "date": "2020-04-30T00:00:00",
          "eshop_name": "E-ShopB",
          "month": 4,
          "social_media_followers": 118.81,
          "time_on_site": 1.52
         },
         {
          "annual_revenue": 10.48,
          "average_rating": 4.29,
          "average_response_time": 2.39,
          "date": "2020-05-31T00:00:00",
          "eshop_name": "E-ShopB",
          "month": 5,
          "social_media_followers": 208.06,
          "time_on_site": 3.33
         },
         {
          "annual_revenue": 12.52,
          "average_rating": 3.88,
          "average_response_time": 1.99,
          "date": "2020-06-30T00:00:00",
          "eshop_name": "E-ShopB",
          "month": 6,
          "social_media_followers": 165.64,
          "time_on_site": 3
         },
         {
          "annual_revenue": 20.23,
          "average_rating": 4.38,
          "average_response_time": 2.13,
          "date": "2020-07-31T00:00:00",
          "eshop_name": "E-ShopB",
          "month": 7,
          "social_media_followers": 302.67,
          "time_on_site": 2.21
         },
         {
          "annual_revenue": 20.03,
          "average_rating": 4.31,
          "average_response_time": 1.99,
          "date": "2020-08-31T00:00:00",
          "eshop_name": "E-ShopB",
          "month": 8,
          "social_media_followers": 297.85,
          "time_on_site": 3.56
         },
         {
          "annual_revenue": 20.65,
          "average_rating": 4.08,
          "average_response_time": 1.73,
          "date": "2020-09-30T00:00:00",
          "eshop_name": "E-ShopB",
          "month": 9,
          "social_media_followers": 343.22,
          "time_on_site": 3.43
         },
         {
          "annual_revenue": 23.25,
          "average_rating": 4.84,
          "average_response_time": 2.22,
          "date": "2020-10-31T00:00:00",
          "eshop_name": "E-ShopB",
          "month": 10,
          "social_media_followers": 435.95,
          "time_on_site": 4.63
         },
         {
          "annual_revenue": 19.02,
          "average_rating": 2.96,
          "average_response_time": 1.35,
          "date": "2020-11-30T00:00:00",
          "eshop_name": "E-ShopB",
          "month": 11,
          "social_media_followers": 345.43,
          "time_on_site": 3.51
         },
         {
          "annual_revenue": 25.65,
          "average_rating": 3.89,
          "average_response_time": 1.92,
          "date": "2020-12-31T00:00:00",
          "eshop_name": "E-ShopB",
          "month": 12,
          "social_media_followers": 382.13,
          "time_on_site": 4.17
         },
         {
          "annual_revenue": 31.11,
          "average_rating": 4.85,
          "average_response_time": 2.17,
          "date": "2021-01-31T00:00:00",
          "eshop_name": "E-ShopB",
          "month": 1,
          "social_media_followers": 465.09,
          "time_on_site": 6.19
         },
         {
          "annual_revenue": 29.82,
          "average_rating": 4.14,
          "average_response_time": 1.82,
          "date": "2021-02-28T00:00:00",
          "eshop_name": "E-ShopB",
          "month": 2,
          "social_media_followers": 468.06,
          "time_on_site": 4.66
         },
         {
          "annual_revenue": 19.91,
          "average_rating": 2.8,
          "average_response_time": 1.13,
          "date": "2021-03-31T00:00:00",
          "eshop_name": "E-ShopB",
          "month": 3,
          "social_media_followers": 342.25,
          "time_on_site": 3.55
         },
         {
          "annual_revenue": 34.53,
          "average_rating": 5.53,
          "average_response_time": 2.04,
          "date": "2021-04-30T00:00:00",
          "eshop_name": "E-ShopB",
          "month": 4,
          "social_media_followers": 778.44,
          "time_on_site": 7.72
         },
         {
          "annual_revenue": 19.22,
          "average_rating": 2.62,
          "average_response_time": 0.95,
          "date": "2021-05-31T00:00:00",
          "eshop_name": "E-ShopB",
          "month": 5,
          "social_media_followers": 361.78,
          "time_on_site": 2.39
         },
         {
          "annual_revenue": 18.94,
          "average_rating": 2.87,
          "average_response_time": 1.03,
          "date": "2021-06-30T00:00:00",
          "eshop_name": "E-ShopB",
          "month": 6,
          "social_media_followers": 395.87,
          "time_on_site": 3.6
         },
         {
          "annual_revenue": 28.1,
          "average_rating": 3.45,
          "average_response_time": 1.44,
          "date": "2021-07-31T00:00:00",
          "eshop_name": "E-ShopB",
          "month": 7,
          "social_media_followers": 538.12,
          "time_on_site": 4.37
         },
         {
          "annual_revenue": 27.93,
          "average_rating": 3.57,
          "average_response_time": 1.22,
          "date": "2021-08-31T00:00:00",
          "eshop_name": "E-ShopB",
          "month": 8,
          "social_media_followers": 468.33,
          "time_on_site": 4.65
         },
         {
          "annual_revenue": 17.15,
          "average_rating": 2.14,
          "average_response_time": 0.8,
          "date": "2021-09-30T00:00:00",
          "eshop_name": "E-ShopB",
          "month": 9,
          "social_media_followers": 309.19,
          "time_on_site": 3.12
         },
         {
          "annual_revenue": 38.4,
          "average_rating": 4.92,
          "average_response_time": 1.57,
          "date": "2021-10-31T00:00:00",
          "eshop_name": "E-ShopB",
          "month": 10,
          "social_media_followers": 713.21,
          "time_on_site": 9.48
         },
         {
          "annual_revenue": 20.59,
          "average_rating": 2.1,
          "average_response_time": 0.78,
          "date": "2021-11-30T00:00:00",
          "eshop_name": "E-ShopB",
          "month": 11,
          "social_media_followers": 342.89,
          "time_on_site": 3.07
         },
         {
          "annual_revenue": 23.07,
          "average_rating": 2.58,
          "average_response_time": 0.89,
          "date": "2021-12-31T00:00:00",
          "eshop_name": "E-ShopB",
          "month": 12,
          "social_media_followers": 401.07,
          "time_on_site": 5.08
         },
         {
          "annual_revenue": 27.05,
          "average_rating": 3.03,
          "average_response_time": 0.97,
          "date": "2022-01-31T00:00:00",
          "eshop_name": "E-ShopB",
          "month": 1,
          "social_media_followers": 560.48,
          "time_on_site": 4.11
         },
         {
          "annual_revenue": 34.88,
          "average_rating": 3.83,
          "average_response_time": 1.19,
          "date": "2022-02-28T00:00:00",
          "eshop_name": "E-ShopB",
          "month": 2,
          "social_media_followers": 680.28,
          "time_on_site": 6.59
         },
         {
          "annual_revenue": 30.02,
          "average_rating": 3.11,
          "average_response_time": 0.87,
          "date": "2022-03-31T00:00:00",
          "eshop_name": "E-ShopB",
          "month": 3,
          "social_media_followers": 505.16,
          "time_on_site": 5.71
         },
         {
          "annual_revenue": 49.08,
          "average_rating": 4.89,
          "average_response_time": 1.49,
          "date": "2022-04-30T00:00:00",
          "eshop_name": "E-ShopB",
          "month": 4,
          "social_media_followers": 869.97,
          "time_on_site": 9.98
         },
         {
          "annual_revenue": 25.02,
          "average_rating": 2.47,
          "average_response_time": 0.67,
          "date": "2022-05-31T00:00:00",
          "eshop_name": "E-ShopB",
          "month": 5,
          "social_media_followers": 483.57,
          "time_on_site": 5.16
         },
         {
          "annual_revenue": 58.14,
          "average_rating": 5.83,
          "average_response_time": 1.37,
          "date": "2022-06-30T00:00:00",
          "eshop_name": "E-ShopB",
          "month": 6,
          "social_media_followers": 1161.17,
          "time_on_site": 12.1
         },
         {
          "annual_revenue": 47.16,
          "average_rating": 4.02,
          "average_response_time": 0.94,
          "date": "2022-07-31T00:00:00",
          "eshop_name": "E-ShopB",
          "month": 7,
          "social_media_followers": 903.2,
          "time_on_site": 7.78
         },
         {
          "annual_revenue": 59.03,
          "average_rating": 5.95,
          "average_response_time": 1.51,
          "date": "2022-08-31T00:00:00",
          "eshop_name": "E-ShopB",
          "month": 8,
          "social_media_followers": 1392.46,
          "time_on_site": 11.36
         },
         {
          "annual_revenue": 57.93,
          "average_rating": 5.56,
          "average_response_time": 1.6,
          "date": "2022-09-30T00:00:00",
          "eshop_name": "E-ShopB",
          "month": 9,
          "social_media_followers": 1213.84,
          "time_on_site": 12.98
         },
         {
          "annual_revenue": 31.13,
          "average_rating": 3.04,
          "average_response_time": 0.74,
          "date": "2022-10-31T00:00:00",
          "eshop_name": "E-ShopB",
          "month": 10,
          "social_media_followers": 618.3,
          "time_on_site": 6.39
         },
         {
          "annual_revenue": 70.84,
          "average_rating": 6.11,
          "average_response_time": 1.42,
          "date": "2022-11-30T00:00:00",
          "eshop_name": "E-ShopB",
          "month": 11,
          "social_media_followers": 1212.05,
          "time_on_site": 11.83
         },
         {
          "annual_revenue": 63.77,
          "average_rating": 5.33,
          "average_response_time": 1.23,
          "date": "2022-12-31T00:00:00",
          "eshop_name": "E-ShopB",
          "month": 12,
          "social_media_followers": 1210.45,
          "time_on_site": 10.59
         },
         {
          "annual_revenue": 7.8,
          "average_rating": 2.44,
          "average_response_time": 1.37,
          "date": "2020-01-31T00:00:00",
          "eshop_name": "E-ShopC",
          "month": 1,
          "social_media_followers": 101.48,
          "time_on_site": 0.64
         },
         {
          "annual_revenue": 10.17,
          "average_rating": 4.54,
          "average_response_time": 2.45,
          "date": "2020-02-29T00:00:00",
          "eshop_name": "E-ShopC",
          "month": 2,
          "social_media_followers": 49.89,
          "time_on_site": 0.53
         },
         {
          "annual_revenue": 21.13,
          "average_rating": 5.19,
          "average_response_time": 2.73,
          "date": "2020-03-31T00:00:00",
          "eshop_name": "E-ShopC",
          "month": 3,
          "social_media_followers": 251.58,
          "time_on_site": 1
         },
         {
          "annual_revenue": 21.77,
          "average_rating": 4.9,
          "average_response_time": 2.55,
          "date": "2020-04-30T00:00:00",
          "eshop_name": "E-ShopC",
          "month": 4,
          "social_media_followers": 253.29,
          "time_on_site": 3.24
         },
         {
          "annual_revenue": 8.46,
          "average_rating": 3.47,
          "average_response_time": 1.93,
          "date": "2020-05-31T00:00:00",
          "eshop_name": "E-ShopC",
          "month": 5,
          "social_media_followers": 168.01,
          "time_on_site": 2.69
         },
         {
          "annual_revenue": 17.21,
          "average_rating": 5.33,
          "average_response_time": 2.73,
          "date": "2020-06-30T00:00:00",
          "eshop_name": "E-ShopC",
          "month": 6,
          "social_media_followers": 227.75,
          "time_on_site": 4.12
         },
         {
          "annual_revenue": 24.99,
          "average_rating": 5.41,
          "average_response_time": 2.63,
          "date": "2020-07-31T00:00:00",
          "eshop_name": "E-ShopC",
          "month": 7,
          "social_media_followers": 373.88,
          "time_on_site": 2.73
         },
         {
          "annual_revenue": 25.1,
          "average_rating": 5.4,
          "average_response_time": 2.5,
          "date": "2020-08-31T00:00:00",
          "eshop_name": "E-ShopC",
          "month": 8,
          "social_media_followers": 373.21,
          "time_on_site": 4.46
         },
         {
          "annual_revenue": 20.67,
          "average_rating": 4.09,
          "average_response_time": 1.74,
          "date": "2020-09-30T00:00:00",
          "eshop_name": "E-ShopC",
          "month": 9,
          "social_media_followers": 343.61,
          "time_on_site": 3.43
         },
         {
          "annual_revenue": 15.02,
          "average_rating": 3.13,
          "average_response_time": 1.44,
          "date": "2020-10-31T00:00:00",
          "eshop_name": "E-ShopC",
          "month": 10,
          "social_media_followers": 281.72,
          "time_on_site": 2.99
         },
         {
          "annual_revenue": 12.32,
          "average_rating": 1.92,
          "average_response_time": 0.87,
          "date": "2020-11-30T00:00:00",
          "eshop_name": "E-ShopC",
          "month": 11,
          "social_media_followers": 223.82,
          "time_on_site": 2.27
         },
         {
          "annual_revenue": 16.27,
          "average_rating": 2.47,
          "average_response_time": 1.22,
          "date": "2020-12-31T00:00:00",
          "eshop_name": "E-ShopC",
          "month": 12,
          "social_media_followers": 242.29,
          "time_on_site": 2.65
         },
         {
          "annual_revenue": 24.35,
          "average_rating": 3.79,
          "average_response_time": 1.7,
          "date": "2021-01-31T00:00:00",
          "eshop_name": "E-ShopC",
          "month": 1,
          "social_media_followers": 364.03,
          "time_on_site": 4.85
         },
         {
          "annual_revenue": 14.82,
          "average_rating": 2.06,
          "average_response_time": 0.91,
          "date": "2021-02-28T00:00:00",
          "eshop_name": "E-ShopC",
          "month": 2,
          "social_media_followers": 232.54,
          "time_on_site": 2.31
         },
         {
          "annual_revenue": 18.86,
          "average_rating": 2.65,
          "average_response_time": 1.07,
          "date": "2021-03-31T00:00:00",
          "eshop_name": "E-ShopC",
          "month": 3,
          "social_media_followers": 324.17,
          "time_on_site": 3.37
         },
         {
          "annual_revenue": 28.54,
          "average_rating": 4.57,
          "average_response_time": 1.69,
          "date": "2021-04-30T00:00:00",
          "eshop_name": "E-ShopC",
          "month": 4,
          "social_media_followers": 643.32,
          "time_on_site": 6.38
         },
         {
          "annual_revenue": 27.21,
          "average_rating": 3.71,
          "average_response_time": 1.34,
          "date": "2021-05-31T00:00:00",
          "eshop_name": "E-ShopC",
          "month": 5,
          "social_media_followers": 512.22,
          "time_on_site": 3.39
         },
         {
          "annual_revenue": 27.9,
          "average_rating": 4.24,
          "average_response_time": 1.52,
          "date": "2021-06-30T00:00:00",
          "eshop_name": "E-ShopC",
          "month": 6,
          "social_media_followers": 583.31,
          "time_on_site": 5.31
         },
         {
          "annual_revenue": 23.72,
          "average_rating": 2.91,
          "average_response_time": 1.21,
          "date": "2021-07-31T00:00:00",
          "eshop_name": "E-ShopC",
          "month": 7,
          "social_media_followers": 454.31,
          "time_on_site": 3.69
         },
         {
          "annual_revenue": 16.58,
          "average_rating": 2.12,
          "average_response_time": 0.72,
          "date": "2021-08-31T00:00:00",
          "eshop_name": "E-ShopC",
          "month": 8,
          "social_media_followers": 278.01,
          "time_on_site": 2.76
         },
         {
          "annual_revenue": 47,
          "average_rating": 5.86,
          "average_response_time": 2.2,
          "date": "2021-09-30T00:00:00",
          "eshop_name": "E-ShopC",
          "month": 9,
          "social_media_followers": 847.25,
          "time_on_site": 8.54
         },
         {
          "annual_revenue": 44.3,
          "average_rating": 5.67,
          "average_response_time": 1.82,
          "date": "2021-10-31T00:00:00",
          "eshop_name": "E-ShopC",
          "month": 10,
          "social_media_followers": 822.93,
          "time_on_site": 10.94
         },
         {
          "annual_revenue": 49.79,
          "average_rating": 5.08,
          "average_response_time": 1.88,
          "date": "2021-11-30T00:00:00",
          "eshop_name": "E-ShopC",
          "month": 11,
          "social_media_followers": 829,
          "time_on_site": 7.43
         },
         {
          "annual_revenue": 40.87,
          "average_rating": 4.58,
          "average_response_time": 1.58,
          "date": "2021-12-31T00:00:00",
          "eshop_name": "E-ShopC",
          "month": 12,
          "social_media_followers": 710.44,
          "time_on_site": 8.99
         },
         {
          "annual_revenue": 53.32,
          "average_rating": 5.98,
          "average_response_time": 1.92,
          "date": "2022-01-31T00:00:00",
          "eshop_name": "E-ShopC",
          "month": 1,
          "social_media_followers": 1104.95,
          "time_on_site": 8.1
         },
         {
          "annual_revenue": 29.99,
          "average_rating": 3.29,
          "average_response_time": 1.02,
          "date": "2022-02-28T00:00:00",
          "eshop_name": "E-ShopC",
          "month": 2,
          "social_media_followers": 584.84,
          "time_on_site": 5.67
         },
         {
          "annual_revenue": 21,
          "average_rating": 2.18,
          "average_response_time": 0.61,
          "date": "2022-03-31T00:00:00",
          "eshop_name": "E-ShopC",
          "month": 3,
          "social_media_followers": 353.32,
          "time_on_site": 3.99
         },
         {
          "annual_revenue": 56.89,
          "average_rating": 5.67,
          "average_response_time": 1.73,
          "date": "2022-04-30T00:00:00",
          "eshop_name": "E-ShopC",
          "month": 4,
          "social_media_followers": 1008.37,
          "time_on_site": 11.57
         },
         {
          "annual_revenue": 44.04,
          "average_rating": 4.34,
          "average_response_time": 1.18,
          "date": "2022-05-31T00:00:00",
          "eshop_name": "E-ShopC",
          "month": 5,
          "social_media_followers": 851.22,
          "time_on_site": 9.08
         },
         {
          "annual_revenue": 53.14,
          "average_rating": 5.33,
          "average_response_time": 1.25,
          "date": "2022-06-30T00:00:00",
          "eshop_name": "E-ShopC",
          "month": 6,
          "social_media_followers": 1061.45,
          "time_on_site": 11.06
         },
         {
          "annual_revenue": 32.56,
          "average_rating": 2.78,
          "average_response_time": 0.65,
          "date": "2022-07-31T00:00:00",
          "eshop_name": "E-ShopC",
          "month": 7,
          "social_media_followers": 623.72,
          "time_on_site": 5.37
         },
         {
          "annual_revenue": 64.83,
          "average_rating": 6.54,
          "average_response_time": 1.66,
          "date": "2022-08-31T00:00:00",
          "eshop_name": "E-ShopC",
          "month": 8,
          "social_media_followers": 1529.19,
          "time_on_site": 12.48
         },
         {
          "annual_revenue": 31.7,
          "average_rating": 3.04,
          "average_response_time": 0.88,
          "date": "2022-09-30T00:00:00",
          "eshop_name": "E-ShopC",
          "month": 9,
          "social_media_followers": 664.3,
          "time_on_site": 7.1
         },
         {
          "annual_revenue": 27.09,
          "average_rating": 2.65,
          "average_response_time": 0.64,
          "date": "2022-10-31T00:00:00",
          "eshop_name": "E-ShopC",
          "month": 10,
          "social_media_followers": 538.03,
          "time_on_site": 5.56
         },
         {
          "annual_revenue": 56.59,
          "average_rating": 4.88,
          "average_response_time": 1.13,
          "date": "2022-11-30T00:00:00",
          "eshop_name": "E-ShopC",
          "month": 11,
          "social_media_followers": 968.37,
          "time_on_site": 9.45
         },
         {
          "annual_revenue": 66.5,
          "average_rating": 5.56,
          "average_response_time": 1.28,
          "date": "2022-12-31T00:00:00",
          "eshop_name": "E-ShopC",
          "month": 12,
          "social_media_followers": 1262.25,
          "time_on_site": 11.05
         }
        ]
       },
       "encoding": {
        "order": {
         "aggregate": "max",
         "field": "social_media_followers",
         "sort": "descending",
         "type": "quantitative"
        },
        "x": {
         "axis": {
          "grid": false,
          "labelAngle": 0,
          "title": "Year",
          "titleAnchor": "start"
         },
         "field": "eshop_name",
         "type": "nominal"
        },
        "y": {
         "aggregate": "max",
         "axis": {
          "grid": false,
          "title": "Total Revenue",
          "titleAnchor": "end"
         },
         "field": "social_media_followers",
         "type": "quantitative"
        }
       },
       "height": 200,
       "mark": {
        "type": "bar"
       },
       "title": "Total Annual Revenue by E-shop and Year",
       "transform": [
        {
         "sort": [
          {
           "field": "max(social_media_followers)",
           "order": "descending"
          }
         ],
         "window": [
          {
           "as": "rank",
           "field": "max(social_media_followers)",
           "op": "rank"
          }
         ]
        },
        {
         "filter": "(datum.rank === 1)"
        }
       ],
       "width": 250
      },
      "text/plain": [
       "<VegaLite 5 object>\n",
       "\n",
       "If you see this message, it means the renderer has not been properly enabled\n",
       "for the frontend that you are using. For more information, see\n",
       "https://altair-viz.github.io/user_guide/display_frontends.html#troubleshooting\n"
      ]
     },
     "execution_count": 51,
     "metadata": {},
     "output_type": "execute_result"
    }
   ],
   "source": [
    "df_most_followers = df.groupby('eshop_name')['social_media_followers'].max().reset_index().rename(columns={'social_media_followers':'max_followers'}).sort_values('max_followers', ascending=False).head(1)\n",
    "\n",
    "chart = alt.Chart(df).mark_bar().encode(\n",
    "    x=alt.X('eshop_name:N').axis(title='Year', \n",
    "                               titleAnchor=\"start\",\n",
    "                               labelAngle=0,\n",
    "                               grid=False),\n",
    "    y=alt.Y('max(social_media_followers):Q').axis(title='Total Revenue', \n",
    "                               titleAnchor=\"end\",\n",
    "                               grid=False),\n",
    "    order=alt.Order('max(social_media_followers):Q', sort='descending')\n",
    ").properties(\n",
    "    title='Total Annual Revenue by E-shop and Year',\n",
    "    width= 250,\n",
    "    height=200\n",
    ").configure_title( \n",
    "    fontSize=16,\n",
    "    font='Arial',\n",
    "    anchor='start'\n",
    ").configure_view(\n",
    "    strokeWidth=0\n",
    ")\n",
    "\n",
    "chart\n"
   ]
  },
  {
   "cell_type": "code",
   "execution_count": null,
   "id": "195860cd",
   "metadata": {},
   "outputs": [],
   "source": [
    "df_most_followers = df.groupby('eshop_name')['social_media_followers'].max().reset_index().rename(columns={'social_media_followers':'max_followers'}).sort_values('max_followers', ascending=False).head(1)\n",
    "\n",
    "df_most_followers"
   ]
  },
  {
   "cell_type": "markdown",
   "id": "d89840ab",
   "metadata": {},
   "source": [
    "## Task 5\n",
    "\n",
    "Monthly Time on Site overview\n",
    "\n",
    "- Show a monthly overview of the average time on site for every E-shop (order by E-shop and month)\n",
    "- Use the names `month` and `average_time_on_site`"
   ]
  },
  {
   "cell_type": "code",
   "execution_count": null,
   "id": "aabbd317",
   "metadata": {},
   "outputs": [],
   "source": [
    "df['month'] = df['date'].dt.month\n",
    "df_user_growth = df.groupby(['eshop_name', 'month'])['time_on_site'].mean().reset_index().rename(columns={'time_on_site':'average_time_on_site'})\n",
    "\n",
    "df_user_growth"
   ]
  }
 ],
 "metadata": {
  "kernelspec": {
   "display_name": "Python 3 (ipykernel)",
   "language": "python",
   "name": "python3"
  },
  "language_info": {
   "codemirror_mode": {
    "name": "ipython",
    "version": 3
   },
   "file_extension": ".py",
   "mimetype": "text/x-python",
   "name": "python",
   "nbconvert_exporter": "python",
   "pygments_lexer": "ipython3",
   "version": "3.11.4"
  }
 },
 "nbformat": 4,
 "nbformat_minor": 5
}
