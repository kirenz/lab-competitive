{
 "cells": [
  {
   "cell_type": "markdown",
   "id": "ae5bcee9-6588-4d29-bbb9-6fb351ef6630",
   "metadata": {},
   "source": [
    "# SQL analysis part 2\n",
    "\n",
    "Download this Juypter Notebook and solve the tasks by inserting the SQL queries (it is not possible to solve the tasks in Colab). \n",
    "\n",
    "Example query (we include `df_example` at the end of the code cell to print the result):\n",
    "\n",
    "```Python\n",
    "df_example = pd.read_sql(\"\"\"\n",
    "    SELECT *\n",
    "    FROM ecommerce_data;\n",
    "\"\"\", engine)\n",
    "\n",
    "df_example\n",
    "```"
   ]
  },
  {
   "cell_type": "markdown",
   "id": "0c797991-8486-4d79-8c1d-5dc0c1289c2f",
   "metadata": {},
   "source": [
    "## Setup"
   ]
  },
  {
   "cell_type": "code",
   "execution_count": 1,
   "id": "19cd4e96",
   "metadata": {},
   "outputs": [],
   "source": [
    "import os\n",
    "import pandas as pd\n",
    "from sqlalchemy import create_engine\n",
    "from dotenv import load_dotenv"
   ]
  },
  {
   "cell_type": "markdown",
   "id": "78264cec",
   "metadata": {},
   "source": [
    "## Data\n",
    "\n",
    "Connect to your MySQL-database \"db_ecommerce\" (make sure to prepare your `.env` file)"
   ]
  },
  {
   "cell_type": "code",
   "execution_count": 2,
   "id": "d328907e",
   "metadata": {},
   "outputs": [],
   "source": [
    "load_dotenv()   # take environment variables from .env\n",
    "\n",
    "engine = create_engine(\"mysql+pymysql://\" + os.environ['DB_URL'] + \"/db_ecommerce\", pool_pre_ping=True, pool_recycle=300)"
   ]
  },
  {
   "cell_type": "code",
   "execution_count": 3,
   "id": "96099752",
   "metadata": {},
   "outputs": [
    {
     "data": {
      "text/plain": [
       "108"
      ]
     },
     "execution_count": 3,
     "metadata": {},
     "output_type": "execute_result"
    }
   ],
   "source": [
    "# Use pandas to_sql function to create the table in the database\n",
    "df = pd.read_csv('https://raw.githubusercontent.com/kirenz/lab-competitive/main/code/ecommerce.csv')\n",
    "df.to_sql('ecommerce', engine, if_exists='replace')"
   ]
  },
  {
   "cell_type": "markdown",
   "id": "9904353a",
   "metadata": {},
   "source": [
    "# Task 1 \n",
    "\n",
    "Get the count of E-shops that have an average rating more than 6.5. Use the alias `eshop_count`.\n"
   ]
  },
  {
   "cell_type": "code",
   "execution_count": 15,
   "id": "632da701",
   "metadata": {},
   "outputs": [
    {
     "data": {
      "text/html": [
       "<div>\n",
       "<style scoped>\n",
       "    .dataframe tbody tr th:only-of-type {\n",
       "        vertical-align: middle;\n",
       "    }\n",
       "\n",
       "    .dataframe tbody tr th {\n",
       "        vertical-align: top;\n",
       "    }\n",
       "\n",
       "    .dataframe thead th {\n",
       "        text-align: right;\n",
       "    }\n",
       "</style>\n",
       "<table border=\"1\" class=\"dataframe\">\n",
       "  <thead>\n",
       "    <tr style=\"text-align: right;\">\n",
       "      <th></th>\n",
       "      <th>eshop_count</th>\n",
       "    </tr>\n",
       "  </thead>\n",
       "  <tbody>\n",
       "    <tr>\n",
       "      <th>0</th>\n",
       "      <td>2</td>\n",
       "    </tr>\n",
       "  </tbody>\n",
       "</table>\n",
       "</div>"
      ],
      "text/plain": [
       "   eshop_count\n",
       "0            2"
      ]
     },
     "execution_count": 15,
     "metadata": {},
     "output_type": "execute_result"
    }
   ],
   "source": [
    "\n",
    "df1 = pd.read_sql(\"\"\"\n",
    "    SELECT COUNT(DISTINCT eshop_name) as eshop_count\n",
    "    FROM ecommerce_data\n",
    "    WHERE average_rating > 6.5;\n",
    "\"\"\", engine)\n",
    "\n",
    "df1\n",
    "\n"
   ]
  },
  {
   "cell_type": "markdown",
   "id": "718f78c8",
   "metadata": {},
   "source": [
    "# Task 2\n",
    "\n",
    "Get the sum of annual revenue grouped by eshop_name. Use the alias `total_revenue`."
   ]
  },
  {
   "cell_type": "code",
   "execution_count": 16,
   "id": "685f1af6",
   "metadata": {},
   "outputs": [
    {
     "data": {
      "text/html": [
       "<div>\n",
       "<style scoped>\n",
       "    .dataframe tbody tr th:only-of-type {\n",
       "        vertical-align: middle;\n",
       "    }\n",
       "\n",
       "    .dataframe tbody tr th {\n",
       "        vertical-align: top;\n",
       "    }\n",
       "\n",
       "    .dataframe thead th {\n",
       "        text-align: right;\n",
       "    }\n",
       "</style>\n",
       "<table border=\"1\" class=\"dataframe\">\n",
       "  <thead>\n",
       "    <tr style=\"text-align: right;\">\n",
       "      <th></th>\n",
       "      <th>eshop_name</th>\n",
       "      <th>total_revenue</th>\n",
       "    </tr>\n",
       "  </thead>\n",
       "  <tbody>\n",
       "    <tr>\n",
       "      <th>0</th>\n",
       "      <td>E-ShopA</td>\n",
       "      <td>1205.40</td>\n",
       "    </tr>\n",
       "    <tr>\n",
       "      <th>1</th>\n",
       "      <td>E-ShopB</td>\n",
       "      <td>1052.02</td>\n",
       "    </tr>\n",
       "    <tr>\n",
       "      <th>2</th>\n",
       "      <td>E-ShopC</td>\n",
       "      <td>1102.50</td>\n",
       "    </tr>\n",
       "  </tbody>\n",
       "</table>\n",
       "</div>"
      ],
      "text/plain": [
       "  eshop_name  total_revenue\n",
       "0    E-ShopA        1205.40\n",
       "1    E-ShopB        1052.02\n",
       "2    E-ShopC        1102.50"
      ]
     },
     "execution_count": 16,
     "metadata": {},
     "output_type": "execute_result"
    }
   ],
   "source": [
    "df2 = pd.read_sql(\"\"\"\n",
    "    SELECT eshop_name, SUM(annual_revenue) as total_revenue\n",
    "    FROM ecommerce_data\n",
    "    GROUP BY eshop_name;\n",
    "\"\"\", engine)\n",
    "\n",
    "df2\n"
   ]
  },
  {
   "cell_type": "markdown",
   "id": "097e0420",
   "metadata": {},
   "source": [
    "# Task 3 \n",
    "\n",
    "Get the maximum and minimum number of social_media_followers by eshop_name. Use the aliases `max_followers` and `min_followers`"
   ]
  },
  {
   "cell_type": "code",
   "execution_count": 17,
   "id": "77a9abe0",
   "metadata": {},
   "outputs": [
    {
     "data": {
      "text/html": [
       "<div>\n",
       "<style scoped>\n",
       "    .dataframe tbody tr th:only-of-type {\n",
       "        vertical-align: middle;\n",
       "    }\n",
       "\n",
       "    .dataframe tbody tr th {\n",
       "        vertical-align: top;\n",
       "    }\n",
       "\n",
       "    .dataframe thead th {\n",
       "        text-align: right;\n",
       "    }\n",
       "</style>\n",
       "<table border=\"1\" class=\"dataframe\">\n",
       "  <thead>\n",
       "    <tr style=\"text-align: right;\">\n",
       "      <th></th>\n",
       "      <th>eshop_name</th>\n",
       "      <th>max_followers</th>\n",
       "      <th>min_followers</th>\n",
       "    </tr>\n",
       "  </thead>\n",
       "  <tbody>\n",
       "    <tr>\n",
       "      <th>0</th>\n",
       "      <td>E-ShopA</td>\n",
       "      <td>1417.39</td>\n",
       "      <td>52.69</td>\n",
       "    </tr>\n",
       "    <tr>\n",
       "      <th>1</th>\n",
       "      <td>E-ShopB</td>\n",
       "      <td>1392.46</td>\n",
       "      <td>50.92</td>\n",
       "    </tr>\n",
       "    <tr>\n",
       "      <th>2</th>\n",
       "      <td>E-ShopC</td>\n",
       "      <td>1529.19</td>\n",
       "      <td>49.89</td>\n",
       "    </tr>\n",
       "  </tbody>\n",
       "</table>\n",
       "</div>"
      ],
      "text/plain": [
       "  eshop_name  max_followers  min_followers\n",
       "0    E-ShopA        1417.39          52.69\n",
       "1    E-ShopB        1392.46          50.92\n",
       "2    E-ShopC        1529.19          49.89"
      ]
     },
     "execution_count": 17,
     "metadata": {},
     "output_type": "execute_result"
    }
   ],
   "source": [
    "df3 = pd.read_sql(\"\"\"\n",
    "    SELECT eshop_name, MAX(social_media_followers) as max_followers, MIN(social_media_followers) as min_followers\n",
    "    FROM ecommerce_data\n",
    "    GROUP BY eshop_name;\n",
    "\"\"\", engine)\n",
    "\n",
    "df3\n"
   ]
  },
  {
   "cell_type": "markdown",
   "id": "e369b004",
   "metadata": {},
   "source": [
    "# Task 4 \n",
    "\n",
    "Get the average annual revenue by eshop_name, only include groups having average annual revenue more than 30000. Use the alias `average_revenue`. Show average revenue with all digits (e.g. 30000 instead of 30).\n"
   ]
  },
  {
   "cell_type": "code",
   "execution_count": 24,
   "id": "138c8e02",
   "metadata": {},
   "outputs": [
    {
     "data": {
      "text/html": [
       "<div>\n",
       "<style scoped>\n",
       "    .dataframe tbody tr th:only-of-type {\n",
       "        vertical-align: middle;\n",
       "    }\n",
       "\n",
       "    .dataframe tbody tr th {\n",
       "        vertical-align: top;\n",
       "    }\n",
       "\n",
       "    .dataframe thead th {\n",
       "        text-align: right;\n",
       "    }\n",
       "</style>\n",
       "<table border=\"1\" class=\"dataframe\">\n",
       "  <thead>\n",
       "    <tr style=\"text-align: right;\">\n",
       "      <th></th>\n",
       "      <th>eshop_name</th>\n",
       "      <th>average_revenue</th>\n",
       "    </tr>\n",
       "  </thead>\n",
       "  <tbody>\n",
       "    <tr>\n",
       "      <th>0</th>\n",
       "      <td>E-ShopA</td>\n",
       "      <td>33483.333333</td>\n",
       "    </tr>\n",
       "    <tr>\n",
       "      <th>1</th>\n",
       "      <td>E-ShopC</td>\n",
       "      <td>30625.000000</td>\n",
       "    </tr>\n",
       "  </tbody>\n",
       "</table>\n",
       "</div>"
      ],
      "text/plain": [
       "  eshop_name  average_revenue\n",
       "0    E-ShopA     33483.333333\n",
       "1    E-ShopC     30625.000000"
      ]
     },
     "execution_count": 24,
     "metadata": {},
     "output_type": "execute_result"
    }
   ],
   "source": [
    "\n",
    "df4 = pd.read_sql(\"\"\"\n",
    "    SELECT eshop_name, AVG(annual_revenue)*1000 as average_revenue\n",
    "    FROM ecommerce_data\n",
    "    GROUP BY eshop_name\n",
    "    HAVING average_revenue > 30000;\n",
    "\"\"\", engine)\n",
    "\n",
    "df4\n",
    "\n"
   ]
  },
  {
   "cell_type": "markdown",
   "id": "ee10cad1",
   "metadata": {},
   "source": [
    "# Task 5 \n",
    "\n",
    "Get the total annual revenue and social media followers by eshop_name, including rollup. Use the aliases `total_revenue` and `total_followers`\n"
   ]
  },
  {
   "cell_type": "code",
   "execution_count": 25,
   "id": "b6b8a209",
   "metadata": {},
   "outputs": [
    {
     "data": {
      "text/html": [
       "<div>\n",
       "<style scoped>\n",
       "    .dataframe tbody tr th:only-of-type {\n",
       "        vertical-align: middle;\n",
       "    }\n",
       "\n",
       "    .dataframe tbody tr th {\n",
       "        vertical-align: top;\n",
       "    }\n",
       "\n",
       "    .dataframe thead th {\n",
       "        text-align: right;\n",
       "    }\n",
       "</style>\n",
       "<table border=\"1\" class=\"dataframe\">\n",
       "  <thead>\n",
       "    <tr style=\"text-align: right;\">\n",
       "      <th></th>\n",
       "      <th>eshop_name</th>\n",
       "      <th>total_revenue</th>\n",
       "      <th>total_followers</th>\n",
       "    </tr>\n",
       "  </thead>\n",
       "  <tbody>\n",
       "    <tr>\n",
       "      <th>0</th>\n",
       "      <td>E-ShopA</td>\n",
       "      <td>1205.40</td>\n",
       "      <td>21938.24</td>\n",
       "    </tr>\n",
       "    <tr>\n",
       "      <th>1</th>\n",
       "      <td>E-ShopB</td>\n",
       "      <td>1052.02</td>\n",
       "      <td>19253.83</td>\n",
       "    </tr>\n",
       "    <tr>\n",
       "      <th>2</th>\n",
       "      <td>E-ShopC</td>\n",
       "      <td>1102.50</td>\n",
       "      <td>20042.07</td>\n",
       "    </tr>\n",
       "    <tr>\n",
       "      <th>3</th>\n",
       "      <td>None</td>\n",
       "      <td>3359.92</td>\n",
       "      <td>61234.14</td>\n",
       "    </tr>\n",
       "  </tbody>\n",
       "</table>\n",
       "</div>"
      ],
      "text/plain": [
       "  eshop_name  total_revenue  total_followers\n",
       "0    E-ShopA        1205.40         21938.24\n",
       "1    E-ShopB        1052.02         19253.83\n",
       "2    E-ShopC        1102.50         20042.07\n",
       "3       None        3359.92         61234.14"
      ]
     },
     "execution_count": 25,
     "metadata": {},
     "output_type": "execute_result"
    }
   ],
   "source": [
    "\n",
    "df5 = pd.read_sql(\"\"\"\n",
    "    SELECT eshop_name, SUM(annual_revenue) as total_revenue, SUM(social_media_followers) as total_followers\n",
    "    FROM ecommerce_data\n",
    "    GROUP BY eshop_name WITH ROLLUP;\n",
    "\"\"\", engine)\n",
    "\n",
    "df5\n"
   ]
  },
  {
   "cell_type": "markdown",
   "id": "5a541d59",
   "metadata": {},
   "source": [
    "## Close the connection"
   ]
  },
  {
   "cell_type": "code",
   "execution_count": 28,
   "id": "a6910591",
   "metadata": {},
   "outputs": [],
   "source": [
    "# close connection\n",
    "engine.dispose()"
   ]
  }
 ],
 "metadata": {
  "kernelspec": {
   "display_name": "Python 3 (ipykernel)",
   "language": "python",
   "name": "python3"
  },
  "language_info": {
   "codemirror_mode": {
    "name": "ipython",
    "version": 3
   },
   "file_extension": ".py",
   "mimetype": "text/x-python",
   "name": "python",
   "nbconvert_exporter": "python",
   "pygments_lexer": "ipython3",
   "version": "3.11.4"
  }
 },
 "nbformat": 4,
 "nbformat_minor": 5
}
