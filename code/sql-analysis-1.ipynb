{
 "cells": [
  {
   "cell_type": "markdown",
   "id": "ae5bcee9-6588-4d29-bbb9-6fb351ef6630",
   "metadata": {},
   "source": [
    "# SQL analysis part 1\n",
    "\n",
    "Download this Juypter Notebook and solve the tasks by inserting the SQL queries (it is not possible to solve the tasks in Colab). \n",
    "\n",
    "Example query (we include `df_example` at the end of the code cell to print the result):\n",
    "\n",
    "```Python\n",
    "df_example = pd.read_sql(\"\"\"\n",
    "    SELECT *\n",
    "    FROM ecommerce_data;\n",
    "\"\"\", engine)\n",
    "\n",
    "df_example\n",
    "```"
   ]
  },
  {
   "cell_type": "markdown",
   "id": "0c797991-8486-4d79-8c1d-5dc0c1289c2f",
   "metadata": {},
   "source": [
    "## Setup"
   ]
  },
  {
   "cell_type": "code",
   "execution_count": 1,
   "id": "19cd4e96",
   "metadata": {},
   "outputs": [],
   "source": [
    "import os\n",
    "import pandas as pd\n",
    "from sqlalchemy import create_engine\n",
    "from dotenv import load_dotenv"
   ]
  },
  {
   "cell_type": "markdown",
   "id": "78264cec",
   "metadata": {},
   "source": [
    "## Data\n",
    "\n",
    "Connect to your MySQL-database \"db_ecommerce\" (make sure to prepare your `.env` file)"
   ]
  },
  {
   "cell_type": "code",
   "execution_count": 2,
   "id": "d328907e",
   "metadata": {},
   "outputs": [],
   "source": [
    "load_dotenv()   # take environment variables from .env\n",
    "\n",
    "engine = create_engine(\"mysql+pymysql://\" + os.environ['DB_URL'] + \"/db_ecommerce\", pool_pre_ping=True, pool_recycle=300)"
   ]
  },
  {
   "cell_type": "code",
   "execution_count": 3,
   "id": "96099752",
   "metadata": {},
   "outputs": [
    {
     "data": {
      "text/plain": [
       "108"
      ]
     },
     "execution_count": 3,
     "metadata": {},
     "output_type": "execute_result"
    }
   ],
   "source": [
    "# Use pandas to_sql function to create the table in the database\n",
    "df = pd.read_csv('https://raw.githubusercontent.com/kirenz/lab-competitive/main/code/ecommerce.csv')\n",
    "df.to_sql('ecommerce', engine, if_exists='replace')"
   ]
  },
  {
   "cell_type": "markdown",
   "id": "6abead6a",
   "metadata": {},
   "source": [
    "\n",
    "## Task 1  \n",
    "\n",
    "Get the list of distinct E-shops that have annual revenue more than 70000 and less than 75000 (note that annual revenue is recorded in 10K, i.e. 70 in the data equals 70000)\n"
   ]
  },
  {
   "cell_type": "code",
   "execution_count": 17,
   "id": "036f6035",
   "metadata": {},
   "outputs": [
    {
     "data": {
      "text/html": [
       "<div>\n",
       "<style scoped>\n",
       "    .dataframe tbody tr th:only-of-type {\n",
       "        vertical-align: middle;\n",
       "    }\n",
       "\n",
       "    .dataframe tbody tr th {\n",
       "        vertical-align: top;\n",
       "    }\n",
       "\n",
       "    .dataframe thead th {\n",
       "        text-align: right;\n",
       "    }\n",
       "</style>\n",
       "<table border=\"1\" class=\"dataframe\">\n",
       "  <thead>\n",
       "    <tr style=\"text-align: right;\">\n",
       "      <th></th>\n",
       "      <th>eshop_name</th>\n",
       "    </tr>\n",
       "  </thead>\n",
       "  <tbody>\n",
       "    <tr>\n",
       "      <th>0</th>\n",
       "      <td>E-ShopA</td>\n",
       "    </tr>\n",
       "    <tr>\n",
       "      <th>1</th>\n",
       "      <td>E-ShopB</td>\n",
       "    </tr>\n",
       "  </tbody>\n",
       "</table>\n",
       "</div>"
      ],
      "text/plain": [
       "  eshop_name\n",
       "0    E-ShopA\n",
       "1    E-ShopB"
      ]
     },
     "execution_count": 17,
     "metadata": {},
     "output_type": "execute_result"
    }
   ],
   "source": [
    "df1 = pd.read_sql(\"\"\"\n",
    "    SELECT DISTINCT eshop_name\n",
    "    FROM ecommerce_data\n",
    "    WHERE annual_revenue BETWEEN 70 AND 75\n",
    "    ORDER BY eshop_name;\n",
    "\"\"\", engine)\n",
    "\n",
    "df1\n"
   ]
  },
  {
   "cell_type": "markdown",
   "id": "564ec371",
   "metadata": {},
   "source": [
    "## Task 2\n",
    "\n",
    "Get the top 3 records with the highest annual revenue and which have 'b' or 'a' in their names (note that you need to use two % in Python, e.g. '%%a%%' instead of '%a%'). Show the annual revenue in thousands of dollars (e.g. 10000 instead of 10) and name it revenue."
   ]
  },
  {
   "cell_type": "code",
   "execution_count": 30,
   "id": "0c14c786",
   "metadata": {},
   "outputs": [
    {
     "data": {
      "text/html": [
       "<div>\n",
       "<style scoped>\n",
       "    .dataframe tbody tr th:only-of-type {\n",
       "        vertical-align: middle;\n",
       "    }\n",
       "\n",
       "    .dataframe tbody tr th {\n",
       "        vertical-align: top;\n",
       "    }\n",
       "\n",
       "    .dataframe thead th {\n",
       "        text-align: right;\n",
       "    }\n",
       "</style>\n",
       "<table border=\"1\" class=\"dataframe\">\n",
       "  <thead>\n",
       "    <tr style=\"text-align: right;\">\n",
       "      <th></th>\n",
       "      <th>eshop_name</th>\n",
       "      <th>revenue</th>\n",
       "    </tr>\n",
       "  </thead>\n",
       "  <tbody>\n",
       "    <tr>\n",
       "      <th>0</th>\n",
       "      <td>E-ShopA</td>\n",
       "      <td>74670.0</td>\n",
       "    </tr>\n",
       "    <tr>\n",
       "      <th>1</th>\n",
       "      <td>E-ShopB</td>\n",
       "      <td>70840.0</td>\n",
       "    </tr>\n",
       "    <tr>\n",
       "      <th>2</th>\n",
       "      <td>E-ShopA</td>\n",
       "      <td>66270.0</td>\n",
       "    </tr>\n",
       "  </tbody>\n",
       "</table>\n",
       "</div>"
      ],
      "text/plain": [
       "  eshop_name  revenue\n",
       "0    E-ShopA  74670.0\n",
       "1    E-ShopB  70840.0\n",
       "2    E-ShopA  66270.0"
      ]
     },
     "execution_count": 30,
     "metadata": {},
     "output_type": "execute_result"
    }
   ],
   "source": [
    "df2 = pd.read_sql(\"\"\"\n",
    "    SELECT eshop_name, annual_revenue * 1000 AS revenue\n",
    "    FROM ecommerce_data\n",
    "    WHERE eshop_name LIKE '%%a%%' OR eshop_name LIKE '%%b%%'\n",
    "    ORDER BY revenue DESC\n",
    "    LIMIT 3;\n",
    "\"\"\", engine)\n",
    "\n",
    "df2\n"
   ]
  },
  {
   "cell_type": "markdown",
   "id": "47f72d1a",
   "metadata": {},
   "source": [
    "## Task 3\n",
    "\n",
    "Get the list of E-shops that have `NULL` in social_media_followers"
   ]
  },
  {
   "cell_type": "code",
   "execution_count": 27,
   "id": "ee963d99",
   "metadata": {},
   "outputs": [
    {
     "data": {
      "text/html": [
       "<div>\n",
       "<style scoped>\n",
       "    .dataframe tbody tr th:only-of-type {\n",
       "        vertical-align: middle;\n",
       "    }\n",
       "\n",
       "    .dataframe tbody tr th {\n",
       "        vertical-align: top;\n",
       "    }\n",
       "\n",
       "    .dataframe thead th {\n",
       "        text-align: right;\n",
       "    }\n",
       "</style>\n",
       "<table border=\"1\" class=\"dataframe\">\n",
       "  <thead>\n",
       "    <tr style=\"text-align: right;\">\n",
       "      <th></th>\n",
       "      <th>eshop_name</th>\n",
       "    </tr>\n",
       "  </thead>\n",
       "  <tbody>\n",
       "  </tbody>\n",
       "</table>\n",
       "</div>"
      ],
      "text/plain": [
       "Empty DataFrame\n",
       "Columns: [eshop_name]\n",
       "Index: []"
      ]
     },
     "execution_count": 27,
     "metadata": {},
     "output_type": "execute_result"
    }
   ],
   "source": [
    "df3 = pd.read_sql(\"\"\"\n",
    "    SELECT eshop_name\n",
    "    FROM ecommerce_data\n",
    "    WHERE social_media_followers IS NULL;\n",
    "\"\"\", engine)\n",
    "\n",
    "df3\n"
   ]
  },
  {
   "cell_type": "markdown",
   "id": "b753df73",
   "metadata": {},
   "source": [
    "## Task 4\n",
    "\n",
    "Get the E-shops whose average rating is in (3.5, 4.0, 4.5). Note that only returns values which exactly matches one of the conditions (this is not an intervall)."
   ]
  },
  {
   "cell_type": "code",
   "execution_count": 49,
   "id": "550df095",
   "metadata": {},
   "outputs": [
    {
     "data": {
      "text/html": [
       "<div>\n",
       "<style scoped>\n",
       "    .dataframe tbody tr th:only-of-type {\n",
       "        vertical-align: middle;\n",
       "    }\n",
       "\n",
       "    .dataframe tbody tr th {\n",
       "        vertical-align: top;\n",
       "    }\n",
       "\n",
       "    .dataframe thead th {\n",
       "        text-align: right;\n",
       "    }\n",
       "</style>\n",
       "<table border=\"1\" class=\"dataframe\">\n",
       "  <thead>\n",
       "    <tr style=\"text-align: right;\">\n",
       "      <th></th>\n",
       "      <th>eshop_name</th>\n",
       "      <th>average_rating</th>\n",
       "    </tr>\n",
       "  </thead>\n",
       "  <tbody>\n",
       "    <tr>\n",
       "      <th>0</th>\n",
       "      <td>E-ShopA</td>\n",
       "      <td>4.5</td>\n",
       "    </tr>\n",
       "  </tbody>\n",
       "</table>\n",
       "</div>"
      ],
      "text/plain": [
       "  eshop_name  average_rating\n",
       "0    E-ShopA             4.5"
      ]
     },
     "execution_count": 49,
     "metadata": {},
     "output_type": "execute_result"
    }
   ],
   "source": [
    "df4 = pd.read_sql(\"\"\"\n",
    "    SELECT eshop_name, AVG(average_rating) as average_rating\n",
    "    FROM ecommerce_data\n",
    "    WHERE average_rating IN (3.5, 4.5, 5.0) \n",
    "    GROUP BY eshop_name\n",
    "    ORDER BY average_rating DESC;\n",
    "\"\"\", engine)\n",
    "\n",
    "df4\n"
   ]
  },
  {
   "cell_type": "markdown",
   "id": "19d14ea3",
   "metadata": {},
   "source": [
    "## Task 5\n",
    "\n",
    "Get the E-shops with social media followers that are above 1400 and have 'a' or 'c' in their names. Use REGEXP to obtain the result."
   ]
  },
  {
   "cell_type": "code",
   "execution_count": 58,
   "id": "5b7cdedb",
   "metadata": {},
   "outputs": [
    {
     "data": {
      "text/html": [
       "<div>\n",
       "<style scoped>\n",
       "    .dataframe tbody tr th:only-of-type {\n",
       "        vertical-align: middle;\n",
       "    }\n",
       "\n",
       "    .dataframe tbody tr th {\n",
       "        vertical-align: top;\n",
       "    }\n",
       "\n",
       "    .dataframe thead th {\n",
       "        text-align: right;\n",
       "    }\n",
       "</style>\n",
       "<table border=\"1\" class=\"dataframe\">\n",
       "  <thead>\n",
       "    <tr style=\"text-align: right;\">\n",
       "      <th></th>\n",
       "      <th>eshop_name</th>\n",
       "      <th>social_media_followers</th>\n",
       "    </tr>\n",
       "  </thead>\n",
       "  <tbody>\n",
       "    <tr>\n",
       "      <th>0</th>\n",
       "      <td>E-ShopC</td>\n",
       "      <td>1529.19</td>\n",
       "    </tr>\n",
       "    <tr>\n",
       "      <th>1</th>\n",
       "      <td>E-ShopA</td>\n",
       "      <td>1417.39</td>\n",
       "    </tr>\n",
       "  </tbody>\n",
       "</table>\n",
       "</div>"
      ],
      "text/plain": [
       "  eshop_name  social_media_followers\n",
       "0    E-ShopC                 1529.19\n",
       "1    E-ShopA                 1417.39"
      ]
     },
     "execution_count": 58,
     "metadata": {},
     "output_type": "execute_result"
    }
   ],
   "source": [
    "df5 = pd.read_sql(\"\"\"\n",
    "    SELECT eshop_name, social_media_followers\n",
    "    FROM ecommerce_data\n",
    "    WHERE eshop_name REGEXP 'a|c' AND social_media_followers > 1400\n",
    "    ORDER BY social_media_followers DESC;\n",
    "\"\"\", engine)\n",
    "\n",
    "df5\n"
   ]
  },
  {
   "cell_type": "markdown",
   "id": "d5b1cfae",
   "metadata": {},
   "source": [
    "## Task 6\n",
    "\n",
    "Get the E-shops with annual revenue above 70000 or with social media followers that are above 1400 and end with 'a' in their names. Use REGEXP to obtain the result."
   ]
  },
  {
   "cell_type": "code",
   "execution_count": 60,
   "id": "139dde8b",
   "metadata": {},
   "outputs": [
    {
     "data": {
      "text/html": [
       "<div>\n",
       "<style scoped>\n",
       "    .dataframe tbody tr th:only-of-type {\n",
       "        vertical-align: middle;\n",
       "    }\n",
       "\n",
       "    .dataframe tbody tr th {\n",
       "        vertical-align: top;\n",
       "    }\n",
       "\n",
       "    .dataframe thead th {\n",
       "        text-align: right;\n",
       "    }\n",
       "</style>\n",
       "<table border=\"1\" class=\"dataframe\">\n",
       "  <thead>\n",
       "    <tr style=\"text-align: right;\">\n",
       "      <th></th>\n",
       "      <th>eshop_name</th>\n",
       "      <th>social_media_followers</th>\n",
       "      <th>annual_revenue</th>\n",
       "    </tr>\n",
       "  </thead>\n",
       "  <tbody>\n",
       "    <tr>\n",
       "      <th>0</th>\n",
       "      <td>E-ShopA</td>\n",
       "      <td>1417.39</td>\n",
       "      <td>74.67</td>\n",
       "    </tr>\n",
       "    <tr>\n",
       "      <th>1</th>\n",
       "      <td>E-ShopB</td>\n",
       "      <td>1212.05</td>\n",
       "      <td>70.84</td>\n",
       "    </tr>\n",
       "  </tbody>\n",
       "</table>\n",
       "</div>"
      ],
      "text/plain": [
       "  eshop_name  social_media_followers  annual_revenue\n",
       "0    E-ShopA                 1417.39           74.67\n",
       "1    E-ShopB                 1212.05           70.84"
      ]
     },
     "execution_count": 60,
     "metadata": {},
     "output_type": "execute_result"
    }
   ],
   "source": [
    "df6 = pd.read_sql(\"\"\"\n",
    "    SELECT eshop_name, social_media_followers, annual_revenue\n",
    "    FROM ecommerce_data\n",
    "    WHERE annual_revenue > 70 OR\n",
    "        (eshop_name REGEXP 'a$' AND social_media_followers > 1400)\n",
    "    ORDER BY social_media_followers DESC;\n",
    "\"\"\", engine)\n",
    "\n",
    "\n",
    "df6\n"
   ]
  },
  {
   "cell_type": "markdown",
   "id": "5a541d59",
   "metadata": {},
   "source": [
    "## Close the connection"
   ]
  },
  {
   "cell_type": "code",
   "execution_count": 28,
   "id": "a6910591",
   "metadata": {},
   "outputs": [],
   "source": [
    "# close connection\n",
    "engine.dispose()"
   ]
  }
 ],
 "metadata": {
  "kernelspec": {
   "display_name": "Python 3 (ipykernel)",
   "language": "python",
   "name": "python3"
  },
  "language_info": {
   "codemirror_mode": {
    "name": "ipython",
    "version": 3
   },
   "file_extension": ".py",
   "mimetype": "text/x-python",
   "name": "python",
   "nbconvert_exporter": "python",
   "pygments_lexer": "ipython3",
   "version": "3.11.4"
  }
 },
 "nbformat": 4,
 "nbformat_minor": 5
}
