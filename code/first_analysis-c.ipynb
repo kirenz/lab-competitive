{
 "cells": [
  {
   "cell_type": "markdown",
   "id": "ae5bcee9-6588-4d29-bbb9-6fb351ef6630",
   "metadata": {},
   "source": [
    "# Competitive analysis"
   ]
  },
  {
   "cell_type": "markdown",
   "id": "0c797991-8486-4d79-8c1d-5dc0c1289c2f",
   "metadata": {},
   "source": [
    "## Setup"
   ]
  },
  {
   "cell_type": "code",
   "execution_count": null,
   "id": "19cd4e96",
   "metadata": {},
   "outputs": [],
   "source": [
    "import os\n",
    "import pandas as pd\n",
    "from sqlalchemy import create_engine\n",
    "from dotenv import load_dotenv"
   ]
  },
  {
   "cell_type": "markdown",
   "id": "78264cec",
   "metadata": {},
   "source": [
    "## Data\n",
    "\n",
    "Connect to your MySQL-database \"db_ecommerce\" (make sure to prepare your `.env` file)"
   ]
  },
  {
   "cell_type": "code",
   "execution_count": null,
   "id": "d328907e",
   "metadata": {},
   "outputs": [],
   "source": [
    "load_dotenv()   # take environment variables from .env\n",
    "\n",
    "engine = create_engine(\"mysql+pymysql://\" + os.environ['DB_URL'] + \"/db_ecommerce\", pool_pre_ping=True, pool_recycle=300)\n"
   ]
  },
  {
   "cell_type": "markdown",
   "id": "885992e7",
   "metadata": {},
   "source": [
    "## First analysis\n",
    "\n",
    "- Solve the tasks by inserting the SQL queries. \n",
    "- The tasks are provided as comments in the Python code.\n",
    "\n",
    "Example query (we include `df_example` at th end to print the result):\n",
    "\n",
    "```Python\n",
    "df_example = pd.read_sql(\"\"\"\n",
    "    SELECT *\n",
    "    FROM ecommerce_data;\n",
    "\"\"\", engine)\n",
    "\n",
    "df_example\n",
    "```"
   ]
  },
  {
   "cell_type": "code",
   "execution_count": null,
   "id": "6487455f",
   "metadata": {},
   "outputs": [],
   "source": [
    "# Average Revenue by E-Shop\n",
    "\n",
    "df_avg_revenue = pd.read_sql(\"\"\"\n",
    "    \n",
    "\"\"\", engine)\n",
    "\n",
    "df_avg_revenue"
   ]
  },
  {
   "cell_type": "code",
   "execution_count": null,
   "id": "ec13d170",
   "metadata": {},
   "outputs": [],
   "source": [
    "# E-Shop with the Highest Average Rating\n",
    "\n",
    "df_best_rating = pd.read_sql(\"\"\"\n",
    "\n",
    "\"\"\", engine)\n",
    "\n",
    "df_best_rating"
   ]
  },
  {
   "cell_type": "code",
   "execution_count": null,
   "id": "748086ff",
   "metadata": {},
   "outputs": [],
   "source": [
    "# E-Shop Performance Over Time (Revenue per E-Shop by Year)\n",
    "\n",
    "df_revenue_by_year = pd.read_sql(\"\"\"\n",
    "    \n",
    "\"\"\", engine)\n",
    "\n",
    "df_revenue_by_year\n"
   ]
  },
  {
   "cell_type": "code",
   "execution_count": null,
   "id": "a0d5e7c7",
   "metadata": {},
   "outputs": [],
   "source": [
    "# E-Shop with the Most Social Media Followers\n",
    "\n",
    "df_most_followers = pd.read_sql(\"\"\"\n",
    "    \n",
    "\"\"\", engine)\n",
    "\n",
    "df_most_followers"
   ]
  },
  {
   "cell_type": "code",
   "execution_count": null,
   "id": "d89840ab",
   "metadata": {},
   "outputs": [],
   "source": [
    "# Monthly Active User Base Growth\n",
    "\n",
    "# Hint: use DATE_FORMAT(date, '%%Y-%%m') as month\n",
    "\n",
    "df_user_growth = pd.read_sql(\"\"\"\n",
    "    \n",
    "\"\"\", engine)\n",
    "\n",
    "df_user_growth"
   ]
  },
  {
   "cell_type": "code",
   "execution_count": null,
   "id": "a6910591",
   "metadata": {},
   "outputs": [],
   "source": [
    "# close connection\n",
    "engine.dispose()\n"
   ]
  }
 ],
 "metadata": {
  "kernelspec": {
   "display_name": "Python 3 (ipykernel)",
   "language": "python",
   "name": "python3"
  },
  "language_info": {
   "codemirror_mode": {
    "name": "ipython",
    "version": 3
   },
   "file_extension": ".py",
   "mimetype": "text/x-python",
   "name": "python",
   "nbconvert_exporter": "python",
   "pygments_lexer": "ipython3",
   "version": "3.11.4"
  }
 },
 "nbformat": 4,
 "nbformat_minor": 5
}
