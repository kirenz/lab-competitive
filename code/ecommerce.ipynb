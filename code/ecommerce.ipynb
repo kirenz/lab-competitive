{
 "cells": [
  {
   "cell_type": "markdown",
   "id": "ae5bcee9-6588-4d29-bbb9-6fb351ef6630",
   "metadata": {},
   "source": [
    "# Competitive analysis E-commerce"
   ]
  },
  {
   "cell_type": "markdown",
   "id": "0c797991-8486-4d79-8c1d-5dc0c1289c2f",
   "metadata": {},
   "source": [
    "## Setup"
   ]
  },
  {
   "cell_type": "code",
   "execution_count": 3,
   "id": "19cd4e96",
   "metadata": {},
   "outputs": [],
   "source": [
    "import mysql.connector\n",
    "import pandas as pd"
   ]
  },
  {
   "cell_type": "markdown",
   "id": "78264cec",
   "metadata": {},
   "source": [
    "## Data\n",
    "\n",
    "Connect to your MySQL-database"
   ]
  },
  {
   "cell_type": "code",
   "execution_count": null,
   "id": "57ea9c64",
   "metadata": {},
   "outputs": [],
   "source": [
    "\n",
    "\n",
    "# Create a connection\n",
    "cnx = mysql.connector.connect(user='<username>', password='<password>', host='127.0.0.1', database='db-ecommerce')\n",
    "\n",
    "# Average Revenue by E-Shop\n",
    "df_avg_revenue = pd.read_sql(\"\"\"\n",
    "    SELECT eshop_name, AVG(annual_revenue) as average_revenue\n",
    "    FROM ecommerce_data\n",
    "    GROUP BY eshop_name;\n",
    "\"\"\", cnx)\n",
    "\n",
    "# E-Shop with the Highest Average Rating\n",
    "df_best_rating = pd.read_sql(\"\"\"\n",
    "    SELECT eshop_name, AVG(average_rating) as average_rating\n",
    "    FROM ecommerce_data\n",
    "    GROUP BY eshop_name\n",
    "    ORDER BY average_rating DESC\n",
    "    LIMIT 1;\n",
    "\"\"\", cnx)\n",
    "\n",
    "# E-Shop Performance Over Time\n",
    "df_revenue_by_year = pd.read_sql(\"\"\"\n",
    "    SELECT eshop_name, YEAR(date) as year, SUM(annual_revenue) as total_revenue\n",
    "    FROM ecommerce_data\n",
    "    GROUP BY eshop_name, year;\n",
    "\"\"\", cnx)\n",
    "\n",
    "# E-Shop with the Most Social Media Followers\n",
    "df_most_followers = pd.read_sql(\"\"\"\n",
    "    SELECT eshop_name, MAX(social_media_followers) as max_followers\n",
    "    FROM ecommerce_data\n",
    "    GROUP BY eshop_name\n",
    "    ORDER BY max_followers DESC\n",
    "    LIMIT 1;\n",
    "\"\"\", cnx)\n",
    "\n",
    "# Monthly Active User Base Growth\n",
    "df_user_growth = pd.read_sql(\"\"\"\n",
    "    SELECT eshop_name, DATE_FORMAT(date, '%Y-%m') as month, AVG(active_user_base) as average_active_users\n",
    "    FROM ecommerce_data\n",
    "    GROUP BY eshop_name, month;\n",
    "\"\"\", cnx)\n",
    "\n",
    "# Close the connection\n",
    "cnx.close()\n"
   ]
  }
 ],
 "metadata": {
  "kernelspec": {
   "display_name": "Python 3 (ipykernel)",
   "language": "python",
   "name": "python3"
  },
  "language_info": {
   "codemirror_mode": {
    "name": "ipython",
    "version": 3
   },
   "file_extension": ".py",
   "mimetype": "text/x-python",
   "name": "python",
   "nbconvert_exporter": "python",
   "pygments_lexer": "ipython3",
   "version": "3.11.4"
  }
 },
 "nbformat": 4,
 "nbformat_minor": 5
}
