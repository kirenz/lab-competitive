{
 "cells": [
  {
   "cell_type": "markdown",
   "id": "ae5bcee9-6588-4d29-bbb9-6fb351ef6630",
   "metadata": {},
   "source": [
    "# Competitive analysis E-commerce"
   ]
  },
  {
   "cell_type": "markdown",
   "id": "0c797991-8486-4d79-8c1d-5dc0c1289c2f",
   "metadata": {},
   "source": [
    "## Setup"
   ]
  },
  {
   "cell_type": "code",
   "execution_count": 1,
   "id": "19cd4e96",
   "metadata": {},
   "outputs": [],
   "source": [
    "from sqlalchemy import create_engine\n",
    "import pandas as pd\n",
    "from key import *"
   ]
  },
  {
   "cell_type": "markdown",
   "id": "78264cec",
   "metadata": {},
   "source": [
    "## Data\n",
    "\n",
    "Connect to your MySQL-database"
   ]
  },
  {
   "cell_type": "code",
   "execution_count": 2,
   "id": "9455f4e7",
   "metadata": {},
   "outputs": [],
   "source": [
    "cnx = mysql.connector.connect(**config)"
   ]
  },
  {
   "cell_type": "markdown",
   "id": "885992e7",
   "metadata": {},
   "source": [
    "## First analysis"
   ]
  },
  {
   "cell_type": "code",
   "execution_count": 3,
   "id": "8ac94c82",
   "metadata": {},
   "outputs": [
    {
     "name": "stderr",
     "output_type": "stream",
     "text": [
      "/var/folders/xv/mfzfdtz93_n7615m5ks0tm2m0000gn/T/ipykernel_82036/1075505303.py:2: UserWarning: pandas only supports SQLAlchemy connectable (engine/connection) or database string URI or sqlite3 DBAPI2 connection. Other DBAPI2 objects are not tested. Please consider using SQLAlchemy.\n",
      "  df_avg_revenue = pd.read_sql(\"\"\"\n"
     ]
    },
    {
     "data": {
      "text/html": [
       "<div>\n",
       "<style scoped>\n",
       "    .dataframe tbody tr th:only-of-type {\n",
       "        vertical-align: middle;\n",
       "    }\n",
       "\n",
       "    .dataframe tbody tr th {\n",
       "        vertical-align: top;\n",
       "    }\n",
       "\n",
       "    .dataframe thead th {\n",
       "        text-align: right;\n",
       "    }\n",
       "</style>\n",
       "<table border=\"1\" class=\"dataframe\">\n",
       "  <thead>\n",
       "    <tr style=\"text-align: right;\">\n",
       "      <th></th>\n",
       "      <th>eshop_name</th>\n",
       "      <th>average_revenue</th>\n",
       "    </tr>\n",
       "  </thead>\n",
       "  <tbody>\n",
       "    <tr>\n",
       "      <th>0</th>\n",
       "      <td>E-ShopA</td>\n",
       "      <td>30.221111</td>\n",
       "    </tr>\n",
       "    <tr>\n",
       "      <th>1</th>\n",
       "      <td>E-ShopB</td>\n",
       "      <td>30.221111</td>\n",
       "    </tr>\n",
       "    <tr>\n",
       "      <th>2</th>\n",
       "      <td>E-ShopC</td>\n",
       "      <td>30.221111</td>\n",
       "    </tr>\n",
       "  </tbody>\n",
       "</table>\n",
       "</div>"
      ],
      "text/plain": [
       "  eshop_name  average_revenue\n",
       "0    E-ShopA        30.221111\n",
       "1    E-ShopB        30.221111\n",
       "2    E-ShopC        30.221111"
      ]
     },
     "execution_count": 3,
     "metadata": {},
     "output_type": "execute_result"
    }
   ],
   "source": [
    "\n",
    "# Average Revenue by E-Shop\n",
    "df_avg_revenue = pd.read_sql(\"\"\"\n",
    "    SELECT eshop_name, AVG(annual_revenue) as average_revenue\n",
    "    FROM ecommerce_data\n",
    "    GROUP BY eshop_name;\n",
    "\"\"\", cnx)\n",
    "\n",
    "df_avg_revenue"
   ]
  },
  {
   "cell_type": "code",
   "execution_count": null,
   "id": "5d2f81e2",
   "metadata": {},
   "outputs": [],
   "source": [
    "\n",
    "# E-Shop with the Highest Average Rating\n",
    "df_best_rating = pd.read_sql(\"\"\"\n",
    "    SELECT eshop_name, AVG(average_rating) as average_rating\n",
    "    FROM ecommerce_data\n",
    "    GROUP BY eshop_name\n",
    "    ORDER BY average_rating DESC\n",
    "    LIMIT 1;\n",
    "\"\"\", cnx)\n"
   ]
  },
  {
   "cell_type": "code",
   "execution_count": null,
   "id": "eb076404",
   "metadata": {},
   "outputs": [],
   "source": [
    "\n",
    "# E-Shop Performance Over Time\n",
    "df_revenue_by_year = pd.read_sql(\"\"\"\n",
    "    SELECT eshop_name, YEAR(date) as year, SUM(annual_revenue) as total_revenue\n",
    "    FROM ecommerce_data\n",
    "    GROUP BY eshop_name, year;\n",
    "\"\"\", cnx)\n"
   ]
  },
  {
   "cell_type": "code",
   "execution_count": null,
   "id": "943e7fef",
   "metadata": {},
   "outputs": [],
   "source": [
    "\n",
    "# E-Shop with the Most Social Media Followers\n",
    "df_most_followers = pd.read_sql(\"\"\"\n",
    "    SELECT eshop_name, MAX(social_media_followers) as max_followers\n",
    "    FROM ecommerce_data\n",
    "    GROUP BY eshop_name\n",
    "    ORDER BY max_followers DESC\n",
    "    LIMIT 1;\n",
    "\"\"\", cnx)\n"
   ]
  },
  {
   "cell_type": "code",
   "execution_count": null,
   "id": "5be7e22e",
   "metadata": {},
   "outputs": [],
   "source": [
    "\n",
    "# Monthly Active User Base Growth\n",
    "df_user_growth = pd.read_sql(\"\"\"\n",
    "    SELECT eshop_name, DATE_FORMAT(date, '%Y-%m') as month, AVG(active_user_base) as average_active_users\n",
    "    FROM ecommerce_data\n",
    "    GROUP BY eshop_name, month;\n",
    "\"\"\", cnx)\n"
   ]
  },
  {
   "cell_type": "code",
   "execution_count": null,
   "id": "37c121c7",
   "metadata": {},
   "outputs": [],
   "source": [
    "\n",
    "# Close the connection\n",
    "cnx.close()\n"
   ]
  }
 ],
 "metadata": {
  "kernelspec": {
   "display_name": "Python 3 (ipykernel)",
   "language": "python",
   "name": "python3"
  },
  "language_info": {
   "codemirror_mode": {
    "name": "ipython",
    "version": 3
   },
   "file_extension": ".py",
   "mimetype": "text/x-python",
   "name": "python",
   "nbconvert_exporter": "python",
   "pygments_lexer": "ipython3",
   "version": "3.11.4"
  }
 },
 "nbformat": 4,
 "nbformat_minor": 5
}
