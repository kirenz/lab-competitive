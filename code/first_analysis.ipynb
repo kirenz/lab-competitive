{
 "cells": [
  {
   "cell_type": "markdown",
   "id": "ae5bcee9-6588-4d29-bbb9-6fb351ef6630",
   "metadata": {},
   "source": [
    "# Competitive analysis"
   ]
  },
  {
   "cell_type": "markdown",
   "id": "0c797991-8486-4d79-8c1d-5dc0c1289c2f",
   "metadata": {},
   "source": [
    "## Setup"
   ]
  },
  {
   "cell_type": "code",
   "execution_count": 3,
   "id": "19cd4e96",
   "metadata": {},
   "outputs": [
    {
     "data": {
      "text/plain": [
       "True"
      ]
     },
     "execution_count": 3,
     "metadata": {},
     "output_type": "execute_result"
    }
   ],
   "source": [
    "import os\n",
    "import pandas as pd\n",
    "from sqlalchemy import create_engine\n",
    "from dotenv import load_dotenv"
   ]
  },
  {
   "cell_type": "markdown",
   "id": "78264cec",
   "metadata": {},
   "source": [
    "## Data\n",
    "\n",
    "Connect to your MySQL-database \"db_ecommerce\" (make sure to prepare your `.env` file)"
   ]
  },
  {
   "cell_type": "code",
   "execution_count": 4,
   "id": "d328907e",
   "metadata": {},
   "outputs": [],
   "source": [
    "load_dotenv()   # take environment variables from .env\n",
    "\n",
    "engine = create_engine(\"mysql+pymysql://\" + os.environ['DB_URL'] + \"/db_ecommerce\", pool_pre_ping=True, pool_recycle=300)\n"
   ]
  },
  {
   "cell_type": "markdown",
   "id": "885992e7",
   "metadata": {},
   "source": [
    "## First analysis\n",
    "\n",
    "- Solve the tasks by inserting the SQL queries. \n",
    "- The tasks are provided as comments in the Python code.\n",
    "\n",
    "Example query (we include `df_example` at th end to print the result):\n",
    "\n",
    "```Python\n",
    "df_example = pd.read_sql(\"\"\"\n",
    "    SELECT *\n",
    "    FROM ecommerce_data;\n",
    "\"\"\", engine)\n",
    "\n",
    "df_example\n",
    "```"
   ]
  },
  {
   "cell_type": "code",
   "execution_count": 5,
   "id": "6487455f",
   "metadata": {},
   "outputs": [
    {
     "data": {
      "text/html": [
       "<div>\n",
       "<style scoped>\n",
       "    .dataframe tbody tr th:only-of-type {\n",
       "        vertical-align: middle;\n",
       "    }\n",
       "\n",
       "    .dataframe tbody tr th {\n",
       "        vertical-align: top;\n",
       "    }\n",
       "\n",
       "    .dataframe thead th {\n",
       "        text-align: right;\n",
       "    }\n",
       "</style>\n",
       "<table border=\"1\" class=\"dataframe\">\n",
       "  <thead>\n",
       "    <tr style=\"text-align: right;\">\n",
       "      <th></th>\n",
       "      <th>eshop_name</th>\n",
       "      <th>average_revenue</th>\n",
       "    </tr>\n",
       "  </thead>\n",
       "  <tbody>\n",
       "    <tr>\n",
       "      <th>0</th>\n",
       "      <td>E-ShopA</td>\n",
       "      <td>30.221111</td>\n",
       "    </tr>\n",
       "    <tr>\n",
       "      <th>1</th>\n",
       "      <td>E-ShopB</td>\n",
       "      <td>30.221111</td>\n",
       "    </tr>\n",
       "    <tr>\n",
       "      <th>2</th>\n",
       "      <td>E-ShopC</td>\n",
       "      <td>30.221111</td>\n",
       "    </tr>\n",
       "  </tbody>\n",
       "</table>\n",
       "</div>"
      ],
      "text/plain": [
       "  eshop_name  average_revenue\n",
       "0    E-ShopA        30.221111\n",
       "1    E-ShopB        30.221111\n",
       "2    E-ShopC        30.221111"
      ]
     },
     "execution_count": 5,
     "metadata": {},
     "output_type": "execute_result"
    }
   ],
   "source": [
    "# Average Revenue by E-Shop\n",
    "\n",
    "df_avg_revenue = pd.read_sql(\"\"\"\n",
    "    SELECT eshop_name, AVG(annual_revenue) as average_revenue\n",
    "    FROM ecommerce_data\n",
    "    GROUP BY eshop_name;\n",
    "\"\"\", engine)\n",
    "\n",
    "df_avg_revenue"
   ]
  },
  {
   "cell_type": "code",
   "execution_count": 6,
   "id": "ec13d170",
   "metadata": {},
   "outputs": [
    {
     "data": {
      "text/html": [
       "<div>\n",
       "<style scoped>\n",
       "    .dataframe tbody tr th:only-of-type {\n",
       "        vertical-align: middle;\n",
       "    }\n",
       "\n",
       "    .dataframe tbody tr th {\n",
       "        vertical-align: top;\n",
       "    }\n",
       "\n",
       "    .dataframe thead th {\n",
       "        text-align: right;\n",
       "    }\n",
       "</style>\n",
       "<table border=\"1\" class=\"dataframe\">\n",
       "  <thead>\n",
       "    <tr style=\"text-align: right;\">\n",
       "      <th></th>\n",
       "      <th>eshop_name</th>\n",
       "      <th>average_rating</th>\n",
       "    </tr>\n",
       "  </thead>\n",
       "  <tbody>\n",
       "    <tr>\n",
       "      <th>0</th>\n",
       "      <td>E-ShopA</td>\n",
       "      <td>3.98611</td>\n",
       "    </tr>\n",
       "  </tbody>\n",
       "</table>\n",
       "</div>"
      ],
      "text/plain": [
       "  eshop_name  average_rating\n",
       "0    E-ShopA         3.98611"
      ]
     },
     "execution_count": 6,
     "metadata": {},
     "output_type": "execute_result"
    }
   ],
   "source": [
    "# E-Shop with the Highest Average Rating\n",
    "\n",
    "df_best_rating = pd.read_sql(\"\"\"\n",
    "    SELECT eshop_name, AVG(average_rating) as average_rating\n",
    "    FROM ecommerce_data\n",
    "    GROUP BY eshop_name\n",
    "    ORDER BY average_rating DESC\n",
    "    LIMIT 1;\n",
    "\"\"\", engine)\n",
    "\n",
    "df_best_rating"
   ]
  },
  {
   "cell_type": "code",
   "execution_count": 8,
   "id": "748086ff",
   "metadata": {},
   "outputs": [
    {
     "data": {
      "text/html": [
       "<div>\n",
       "<style scoped>\n",
       "    .dataframe tbody tr th:only-of-type {\n",
       "        vertical-align: middle;\n",
       "    }\n",
       "\n",
       "    .dataframe tbody tr th {\n",
       "        vertical-align: top;\n",
       "    }\n",
       "\n",
       "    .dataframe thead th {\n",
       "        text-align: right;\n",
       "    }\n",
       "</style>\n",
       "<table border=\"1\" class=\"dataframe\">\n",
       "  <thead>\n",
       "    <tr style=\"text-align: right;\">\n",
       "      <th></th>\n",
       "      <th>eshop_name</th>\n",
       "      <th>year</th>\n",
       "      <th>total_revenue</th>\n",
       "    </tr>\n",
       "  </thead>\n",
       "  <tbody>\n",
       "    <tr>\n",
       "      <th>0</th>\n",
       "      <td>E-ShopA</td>\n",
       "      <td>2020</td>\n",
       "      <td>190.33</td>\n",
       "    </tr>\n",
       "    <tr>\n",
       "      <th>1</th>\n",
       "      <td>E-ShopA</td>\n",
       "      <td>2021</td>\n",
       "      <td>363.71</td>\n",
       "    </tr>\n",
       "    <tr>\n",
       "      <th>2</th>\n",
       "      <td>E-ShopA</td>\n",
       "      <td>2022</td>\n",
       "      <td>533.92</td>\n",
       "    </tr>\n",
       "    <tr>\n",
       "      <th>3</th>\n",
       "      <td>E-ShopB</td>\n",
       "      <td>2020</td>\n",
       "      <td>190.33</td>\n",
       "    </tr>\n",
       "    <tr>\n",
       "      <th>4</th>\n",
       "      <td>E-ShopB</td>\n",
       "      <td>2021</td>\n",
       "      <td>363.71</td>\n",
       "    </tr>\n",
       "    <tr>\n",
       "      <th>5</th>\n",
       "      <td>E-ShopB</td>\n",
       "      <td>2022</td>\n",
       "      <td>533.92</td>\n",
       "    </tr>\n",
       "    <tr>\n",
       "      <th>6</th>\n",
       "      <td>E-ShopC</td>\n",
       "      <td>2020</td>\n",
       "      <td>190.33</td>\n",
       "    </tr>\n",
       "    <tr>\n",
       "      <th>7</th>\n",
       "      <td>E-ShopC</td>\n",
       "      <td>2021</td>\n",
       "      <td>363.71</td>\n",
       "    </tr>\n",
       "    <tr>\n",
       "      <th>8</th>\n",
       "      <td>E-ShopC</td>\n",
       "      <td>2022</td>\n",
       "      <td>533.92</td>\n",
       "    </tr>\n",
       "  </tbody>\n",
       "</table>\n",
       "</div>"
      ],
      "text/plain": [
       "  eshop_name  year  total_revenue\n",
       "0    E-ShopA  2020         190.33\n",
       "1    E-ShopA  2021         363.71\n",
       "2    E-ShopA  2022         533.92\n",
       "3    E-ShopB  2020         190.33\n",
       "4    E-ShopB  2021         363.71\n",
       "5    E-ShopB  2022         533.92\n",
       "6    E-ShopC  2020         190.33\n",
       "7    E-ShopC  2021         363.71\n",
       "8    E-ShopC  2022         533.92"
      ]
     },
     "execution_count": 8,
     "metadata": {},
     "output_type": "execute_result"
    }
   ],
   "source": [
    "# E-Shop Performance Over Time (Revenue per E-Shop by Year)\n",
    "\n",
    "df_revenue_by_year = pd.read_sql(\"\"\"\n",
    "    SELECT eshop_name, YEAR(date) as year, SUM(annual_revenue) as total_revenue\n",
    "    FROM ecommerce_data\n",
    "    GROUP BY eshop_name, year;\n",
    "\"\"\", engine)\n",
    "\n",
    "df_revenue_by_year\n"
   ]
  },
  {
   "cell_type": "code",
   "execution_count": 9,
   "id": "a0d5e7c7",
   "metadata": {},
   "outputs": [
    {
     "data": {
      "text/html": [
       "<div>\n",
       "<style scoped>\n",
       "    .dataframe tbody tr th:only-of-type {\n",
       "        vertical-align: middle;\n",
       "    }\n",
       "\n",
       "    .dataframe tbody tr th {\n",
       "        vertical-align: top;\n",
       "    }\n",
       "\n",
       "    .dataframe thead th {\n",
       "        text-align: right;\n",
       "    }\n",
       "</style>\n",
       "<table border=\"1\" class=\"dataframe\">\n",
       "  <thead>\n",
       "    <tr style=\"text-align: right;\">\n",
       "      <th></th>\n",
       "      <th>eshop_name</th>\n",
       "      <th>max_followers</th>\n",
       "    </tr>\n",
       "  </thead>\n",
       "  <tbody>\n",
       "    <tr>\n",
       "      <th>0</th>\n",
       "      <td>E-ShopA</td>\n",
       "      <td>1043</td>\n",
       "    </tr>\n",
       "  </tbody>\n",
       "</table>\n",
       "</div>"
      ],
      "text/plain": [
       "  eshop_name  max_followers\n",
       "0    E-ShopA           1043"
      ]
     },
     "execution_count": 9,
     "metadata": {},
     "output_type": "execute_result"
    }
   ],
   "source": [
    "# E-Shop with the Most Social Media Followers\n",
    "\n",
    "df_most_followers = pd.read_sql(\"\"\"\n",
    "    SELECT eshop_name, MAX(social_media_followers) as max_followers\n",
    "    FROM ecommerce_data\n",
    "    GROUP BY eshop_name\n",
    "    ORDER BY max_followers DESC\n",
    "    LIMIT 1;\n",
    "\"\"\", engine)\n",
    "\n",
    "df_most_followers"
   ]
  },
  {
   "cell_type": "code",
   "execution_count": 13,
   "id": "d89840ab",
   "metadata": {},
   "outputs": [
    {
     "data": {
      "text/html": [
       "<div>\n",
       "<style scoped>\n",
       "    .dataframe tbody tr th:only-of-type {\n",
       "        vertical-align: middle;\n",
       "    }\n",
       "\n",
       "    .dataframe tbody tr th {\n",
       "        vertical-align: top;\n",
       "    }\n",
       "\n",
       "    .dataframe thead th {\n",
       "        text-align: right;\n",
       "    }\n",
       "</style>\n",
       "<table border=\"1\" class=\"dataframe\">\n",
       "  <thead>\n",
       "    <tr style=\"text-align: right;\">\n",
       "      <th></th>\n",
       "      <th>eshop_name</th>\n",
       "      <th>month</th>\n",
       "      <th>average_active_users</th>\n",
       "    </tr>\n",
       "  </thead>\n",
       "  <tbody>\n",
       "    <tr>\n",
       "      <th>0</th>\n",
       "      <td>E-ShopA</td>\n",
       "      <td>2020-01</td>\n",
       "      <td>0.89</td>\n",
       "    </tr>\n",
       "    <tr>\n",
       "      <th>1</th>\n",
       "      <td>E-ShopA</td>\n",
       "      <td>2020-02</td>\n",
       "      <td>0.42</td>\n",
       "    </tr>\n",
       "    <tr>\n",
       "      <th>2</th>\n",
       "      <td>E-ShopA</td>\n",
       "      <td>2020-03</td>\n",
       "      <td>0.69</td>\n",
       "    </tr>\n",
       "    <tr>\n",
       "      <th>3</th>\n",
       "      <td>E-ShopA</td>\n",
       "      <td>2020-04</td>\n",
       "      <td>2.42</td>\n",
       "    </tr>\n",
       "    <tr>\n",
       "      <th>4</th>\n",
       "      <td>E-ShopA</td>\n",
       "      <td>2020-05</td>\n",
       "      <td>2.77</td>\n",
       "    </tr>\n",
       "    <tr>\n",
       "      <th>...</th>\n",
       "      <td>...</td>\n",
       "      <td>...</td>\n",
       "      <td>...</td>\n",
       "    </tr>\n",
       "    <tr>\n",
       "      <th>103</th>\n",
       "      <td>E-ShopC</td>\n",
       "      <td>2022-08</td>\n",
       "      <td>8.51</td>\n",
       "    </tr>\n",
       "    <tr>\n",
       "      <th>104</th>\n",
       "      <td>E-ShopC</td>\n",
       "      <td>2022-09</td>\n",
       "      <td>10.09</td>\n",
       "    </tr>\n",
       "    <tr>\n",
       "      <th>105</th>\n",
       "      <td>E-ShopC</td>\n",
       "      <td>2022-10</td>\n",
       "      <td>9.29</td>\n",
       "    </tr>\n",
       "    <tr>\n",
       "      <th>106</th>\n",
       "      <td>E-ShopC</td>\n",
       "      <td>2022-11</td>\n",
       "      <td>8.47</td>\n",
       "    </tr>\n",
       "    <tr>\n",
       "      <th>107</th>\n",
       "      <td>E-ShopC</td>\n",
       "      <td>2022-12</td>\n",
       "      <td>8.87</td>\n",
       "    </tr>\n",
       "  </tbody>\n",
       "</table>\n",
       "<p>108 rows × 3 columns</p>\n",
       "</div>"
      ],
      "text/plain": [
       "    eshop_name    month  average_active_users\n",
       "0      E-ShopA  2020-01                  0.89\n",
       "1      E-ShopA  2020-02                  0.42\n",
       "2      E-ShopA  2020-03                  0.69\n",
       "3      E-ShopA  2020-04                  2.42\n",
       "4      E-ShopA  2020-05                  2.77\n",
       "..         ...      ...                   ...\n",
       "103    E-ShopC  2022-08                  8.51\n",
       "104    E-ShopC  2022-09                 10.09\n",
       "105    E-ShopC  2022-10                  9.29\n",
       "106    E-ShopC  2022-11                  8.47\n",
       "107    E-ShopC  2022-12                  8.87\n",
       "\n",
       "[108 rows x 3 columns]"
      ]
     },
     "execution_count": 13,
     "metadata": {},
     "output_type": "execute_result"
    }
   ],
   "source": [
    "# Monthly Active User Base Growth\n",
    "\n",
    "# Hint: use DATE_FORMAT(date, '%%Y-%%m') as month\n",
    "\n",
    "df_user_growth = pd.read_sql(\"\"\"\n",
    "    SELECT eshop_name, DATE_FORMAT(date, '%%Y-%%m') as month, AVG(active_user_base) as average_active_users\n",
    "    FROM ecommerce_data\n",
    "    GROUP BY eshop_name, month;\n",
    "\"\"\", engine)\n",
    "\n",
    "df_user_growth"
   ]
  },
  {
   "cell_type": "code",
   "execution_count": 14,
   "id": "a6910591",
   "metadata": {},
   "outputs": [],
   "source": [
    "# close connection\n",
    "engine.dispose()\n"
   ]
  }
 ],
 "metadata": {
  "kernelspec": {
   "display_name": "Python 3 (ipykernel)",
   "language": "python",
   "name": "python3"
  },
  "language_info": {
   "codemirror_mode": {
    "name": "ipython",
    "version": 3
   },
   "file_extension": ".py",
   "mimetype": "text/x-python",
   "name": "python",
   "nbconvert_exporter": "python",
   "pygments_lexer": "ipython3",
   "version": "3.11.4"
  }
 },
 "nbformat": 4,
 "nbformat_minor": 5
}
