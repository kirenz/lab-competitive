{
 "cells": [
  {
   "cell_type": "markdown",
   "id": "ae5bcee9-6588-4d29-bbb9-6fb351ef6630",
   "metadata": {},
   "source": [
    "# SQL analysis part 1\n",
    "\n",
    "Download this Juypter Notebook and solve the tasks by inserting the SQL queries (it is not possible to solve the tasks in Colab). \n",
    "\n",
    "Example query (we include `df_example` at the end of the code cell to print the result):\n",
    "\n",
    "```Python\n",
    "df_example = pd.read_sql(\"\"\"\n",
    "    SELECT *\n",
    "    FROM ecommerce_data;\n",
    "\"\"\", engine)\n",
    "\n",
    "df_example\n",
    "```"
   ]
  },
  {
   "cell_type": "markdown",
   "id": "0c797991-8486-4d79-8c1d-5dc0c1289c2f",
   "metadata": {},
   "source": [
    "## Setup"
   ]
  },
  {
   "cell_type": "code",
   "execution_count": 1,
   "id": "19cd4e96",
   "metadata": {},
   "outputs": [],
   "source": [
    "import os\n",
    "import pandas as pd\n",
    "from sqlalchemy import create_engine\n",
    "from dotenv import load_dotenv"
   ]
  },
  {
   "cell_type": "markdown",
   "id": "78264cec",
   "metadata": {},
   "source": [
    "## Data\n",
    "\n",
    "Connect to your MySQL-database \"db_ecommerce\" (make sure to prepare your `.env` file)"
   ]
  },
  {
   "cell_type": "code",
   "execution_count": 2,
   "id": "d328907e",
   "metadata": {},
   "outputs": [],
   "source": [
    "load_dotenv()   # take environment variables from .env\n",
    "\n",
    "engine = create_engine(\"mysql+pymysql://\" + os.environ['DB_URL'] + \"/db_data\", pool_pre_ping=True, pool_recycle=300)"
   ]
  },
  {
   "cell_type": "code",
   "execution_count": 3,
   "id": "96099752",
   "metadata": {},
   "outputs": [
    {
     "data": {
      "text/plain": [
       "108"
      ]
     },
     "execution_count": 3,
     "metadata": {},
     "output_type": "execute_result"
    }
   ],
   "source": [
    "# Use pandas to_sql function to create the table in the database\n",
    "df = pd.read_csv('https://raw.githubusercontent.com/kirenz/lab-competitive/main/code/ecommerce.csv')\n",
    "df.to_sql('ecommerce_data', engine, if_exists='replace')"
   ]
  },
  {
   "cell_type": "markdown",
   "id": "6abead6a",
   "metadata": {},
   "source": [
    "\n",
    "## Task 1  \n",
    "\n",
    "Get the list of distinct E-shops that have annual revenue more than 70000 and less than 75000 (note that annual revenue is recorded in 10K, i.e. 70 in the data equals 70000)\n"
   ]
  },
  {
   "cell_type": "code",
   "execution_count": null,
   "id": "036f6035",
   "metadata": {},
   "outputs": [],
   "source": [
    "df1 = pd.read_sql(\"\"\"\n",
    "\n",
    "\"\"\", engine)\n",
    "\n",
    "df1\n"
   ]
  },
  {
   "cell_type": "markdown",
   "id": "564ec371",
   "metadata": {},
   "source": [
    "## Task 2\n",
    "\n",
    "Get the top 3 records with the highest annual revenue and which have 'b' or 'a' in their names (note that you need to use two % in Python, e.g. '%%a%%' instead of '%a%'). Show the annual revenue in thousands of dollars (e.g. 10000 instead of 10) and name it revenue."
   ]
  },
  {
   "cell_type": "code",
   "execution_count": null,
   "id": "0c14c786",
   "metadata": {},
   "outputs": [],
   "source": [
    "df2 = pd.read_sql(\"\"\"\n",
    "\n",
    "\"\"\", engine)\n",
    "\n",
    "df2\n"
   ]
  },
  {
   "cell_type": "markdown",
   "id": "47f72d1a",
   "metadata": {},
   "source": [
    "## Task 3\n",
    "\n",
    "Get the list of E-shops that have `NULL` in social_media_followers"
   ]
  },
  {
   "cell_type": "code",
   "execution_count": null,
   "id": "ee963d99",
   "metadata": {},
   "outputs": [],
   "source": [
    "df3 = pd.read_sql(\"\"\"\n",
    "\n",
    "\"\"\", engine)\n",
    "\n",
    "df3\n"
   ]
  },
  {
   "cell_type": "markdown",
   "id": "b753df73",
   "metadata": {},
   "source": [
    "## Task 4\n",
    "\n",
    "Get the E-shops whose average rating is in (3.5, 4.0, 4.5). Note that only returns values which exactly matches one of the conditions (this is not an intervall)."
   ]
  },
  {
   "cell_type": "code",
   "execution_count": null,
   "id": "550df095",
   "metadata": {},
   "outputs": [],
   "source": [
    "df4 = pd.read_sql(\"\"\"\n",
    "\n",
    "\"\"\", engine)\n",
    "\n",
    "df4\n"
   ]
  },
  {
   "cell_type": "markdown",
   "id": "19d14ea3",
   "metadata": {},
   "source": [
    "## Task 5\n",
    "\n",
    "Get the E-shops with social media followers that are above 1400 and have 'a' or 'c' in their names. Use REGEXP to obtain the result."
   ]
  },
  {
   "cell_type": "code",
   "execution_count": null,
   "id": "5b7cdedb",
   "metadata": {},
   "outputs": [],
   "source": [
    "df5 = pd.read_sql(\"\"\"\n",
    "\n",
    "\"\"\", engine)\n",
    "\n",
    "df5\n"
   ]
  },
  {
   "cell_type": "markdown",
   "id": "d5b1cfae",
   "metadata": {},
   "source": [
    "## Task 6\n",
    "\n",
    "Get the E-shops with annual revenue above 70000 or with social media followers that are above 1400 and end with 'a' in their names. Use REGEXP to obtain the result."
   ]
  },
  {
   "cell_type": "code",
   "execution_count": null,
   "id": "139dde8b",
   "metadata": {},
   "outputs": [],
   "source": [
    "df6 = pd.read_sql(\"\"\"\n",
    "\n",
    "\"\"\", engine)\n",
    "\n",
    "\n",
    "df6\n"
   ]
  },
  {
   "cell_type": "markdown",
   "id": "5a541d59",
   "metadata": {},
   "source": [
    "## Close the connection"
   ]
  },
  {
   "cell_type": "code",
   "execution_count": null,
   "id": "a6910591",
   "metadata": {},
   "outputs": [],
   "source": [
    "# close connection\n",
    "engine.dispose()"
   ]
  }
 ],
 "metadata": {
  "kernelspec": {
   "display_name": "Python 3 (ipykernel)",
   "language": "python",
   "name": "python3"
  },
  "language_info": {
   "codemirror_mode": {
    "name": "ipython",
    "version": 3
   },
   "file_extension": ".py",
   "mimetype": "text/x-python",
   "name": "python",
   "nbconvert_exporter": "python",
   "pygments_lexer": "ipython3",
   "version": "3.11.4"
  }
 },
 "nbformat": 4,
 "nbformat_minor": 5
}
