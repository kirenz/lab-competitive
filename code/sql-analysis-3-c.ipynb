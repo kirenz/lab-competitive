{
 "cells": [
  {
   "cell_type": "markdown",
   "id": "ae5bcee9-6588-4d29-bbb9-6fb351ef6630",
   "metadata": {},
   "source": [
    "# SQL analysis part 3\n",
    "\n",
    "Download this Juypter Notebook and solve the tasks by inserting the SQL queries (it is not possible to solve the tasks in Colab). \n",
    "\n",
    "Example query (we include `df_example` at the end of the code cell to print the result):\n",
    "\n",
    "```Python\n",
    "df_example = pd.read_sql(\"\"\"\n",
    "    SELECT *\n",
    "    FROM ecommerce_data;\n",
    "\"\"\", engine)\n",
    "\n",
    "df_example\n",
    "```"
   ]
  },
  {
   "cell_type": "markdown",
   "id": "0c797991-8486-4d79-8c1d-5dc0c1289c2f",
   "metadata": {},
   "source": [
    "## Setup"
   ]
  },
  {
   "cell_type": "code",
   "execution_count": null,
   "id": "19cd4e96",
   "metadata": {},
   "outputs": [],
   "source": [
    "import os\n",
    "import pandas as pd\n",
    "from sqlalchemy import create_engine\n",
    "from dotenv import load_dotenv"
   ]
  },
  {
   "cell_type": "markdown",
   "id": "78264cec",
   "metadata": {},
   "source": [
    "## Data\n",
    "\n",
    "Connect to your MySQL-database \"db_ecommerce\" (make sure to prepare your `.env` file)"
   ]
  },
  {
   "cell_type": "code",
   "execution_count": null,
   "id": "d328907e",
   "metadata": {},
   "outputs": [],
   "source": [
    "load_dotenv()   # take environment variables from .env\n",
    "\n",
    "engine = create_engine(\"mysql+pymysql://\" + os.environ['DB_URL'] + \"/db_ecommerce\", pool_pre_ping=True, pool_recycle=300)\n"
   ]
  },
  {
   "cell_type": "code",
   "execution_count": null,
   "id": "4f318538",
   "metadata": {},
   "outputs": [],
   "source": [
    "# Use pandas to_sql function to create the table in the database\n",
    "df = pd.read_csv('https://raw.githubusercontent.com/kirenz/lab-competitive/main/code/ecommerce.csv')\n",
    "df.to_sql('ecommerce', engine, if_exists='replace')"
   ]
  },
  {
   "cell_type": "markdown",
   "id": "2e5a65b2",
   "metadata": {},
   "source": [
    "## Average Revenue by E-Shop\n",
    "\n",
    "- Show the average revenue for all shops\n",
    "- Use the alias `average_revenue`"
   ]
  },
  {
   "cell_type": "code",
   "execution_count": null,
   "id": "6487455f",
   "metadata": {},
   "outputs": [],
   "source": [
    "\n",
    "df_avg_revenue = pd.read_sql(\"\"\"\n",
    "\n",
    "\"\"\", engine)\n",
    "\n",
    "df_avg_revenue"
   ]
  },
  {
   "cell_type": "markdown",
   "id": "ec13d170",
   "metadata": {},
   "source": [
    "## E-Shop with the Highest Average Rating\n",
    "\n",
    "- Only show the E-Shop with the highest average rating\n",
    "- Use the alias `average_rating`"
   ]
  },
  {
   "cell_type": "code",
   "execution_count": null,
   "id": "12c666d1",
   "metadata": {},
   "outputs": [],
   "source": [
    "\n",
    "df_best_rating = pd.read_sql(\"\"\"\n",
    "\n",
    "\"\"\", engine)\n",
    "\n",
    "df_best_rating"
   ]
  },
  {
   "cell_type": "markdown",
   "id": "748086ff",
   "metadata": {},
   "source": [
    "## E-Shop Performance Over Time \n",
    "\n",
    "- Show the annual revenue per E-Shop by year\n",
    "- Use the aliases `year`  and `total_revenue`"
   ]
  },
  {
   "cell_type": "code",
   "execution_count": null,
   "id": "ed2a20b5",
   "metadata": {},
   "outputs": [],
   "source": [
    "\n",
    "df_revenue_by_year = pd.read_sql(\"\"\"\n",
    "\n",
    "\"\"\", engine)\n",
    "\n",
    "df_revenue_by_year\n"
   ]
  },
  {
   "cell_type": "markdown",
   "id": "a0d5e7c7",
   "metadata": {},
   "source": [
    "## Maximum Social Media Followers\n",
    "\n",
    "- Show the maximum amount of social media followers for every E-shop in a descending order.\n",
    "- Use the alias `max_followers`"
   ]
  },
  {
   "cell_type": "code",
   "execution_count": null,
   "id": "195860cd",
   "metadata": {},
   "outputs": [],
   "source": [
    "\n",
    "df_most_followers = pd.read_sql(\"\"\"\n",
    "\n",
    "\"\"\", engine)\n",
    "\n",
    "df_most_followers"
   ]
  },
  {
   "cell_type": "markdown",
   "id": "d89840ab",
   "metadata": {},
   "source": [
    "## Monthly Time on Site overview\n",
    "\n",
    "- Show a monthly overview of the average time on site for every E-shop (order by E-shop and month)\n",
    "- Use the aliases `month` and `average_time_on_site`\n",
    "- Hint: in Python, you need to use %% instead of % in your query. This means you have to use `DATE_FORMAT(date, '%%m')`"
   ]
  },
  {
   "cell_type": "code",
   "execution_count": null,
   "id": "413ee668",
   "metadata": {},
   "outputs": [],
   "source": [
    "df_user_growth = pd.read_sql(\"\"\"\n",
    "\n",
    "\"\"\", engine)\n",
    "\n",
    "df_user_growth"
   ]
  },
  {
   "cell_type": "markdown",
   "id": "5a541d59",
   "metadata": {},
   "source": [
    "## Close the connection"
   ]
  },
  {
   "cell_type": "code",
   "execution_count": null,
   "id": "a6910591",
   "metadata": {},
   "outputs": [],
   "source": [
    "# close connection\n",
    "engine.dispose()"
   ]
  }
 ],
 "metadata": {
  "kernelspec": {
   "display_name": "Python 3 (ipykernel)",
   "language": "python",
   "name": "python3"
  },
  "language_info": {
   "codemirror_mode": {
    "name": "ipython",
    "version": 3
   },
   "file_extension": ".py",
   "mimetype": "text/x-python",
   "name": "python",
   "nbconvert_exporter": "python",
   "pygments_lexer": "ipython3",
   "version": "3.11.4"
  }
 },
 "nbformat": 4,
 "nbformat_minor": 5
}
